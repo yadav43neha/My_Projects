{
  "nbformat": 4,
  "nbformat_minor": 0,
  "metadata": {
    "colab": {
      "name": "Neural Network for Classification.ipynb",
      "provenance": []
    },
    "kernelspec": {
      "name": "python3",
      "display_name": "Python 3"
    },
    "language_info": {
      "name": "python"
    }
  },
  "cells": [
    {
      "cell_type": "code",
      "metadata": {
        "id": "z4gl5bdpiv5e"
      },
      "source": [
        "import pandas as pd\n",
        "import numpy as np\n",
        "import matplotlib.pyplot as plt\n",
        "import seaborn as sns"
      ],
      "execution_count": 1,
      "outputs": []
    },
    {
      "cell_type": "code",
      "metadata": {
        "id": "rxT3xcluk0oN"
      },
      "source": [
        "df=pd.read_csv(\"/content/diabetes.csv\")"
      ],
      "execution_count": 2,
      "outputs": []
    },
    {
      "cell_type": "code",
      "metadata": {
        "colab": {
          "base_uri": "https://localhost:8080/",
          "height": 206
        },
        "id": "zaMyd0OZk-k_",
        "outputId": "87a37bb1-17a8-4c29-debb-ebf1e4de8889"
      },
      "source": [
        "df.head()"
      ],
      "execution_count": 3,
      "outputs": [
        {
          "output_type": "execute_result",
          "data": {
            "text/html": [
              "<div>\n",
              "<style scoped>\n",
              "    .dataframe tbody tr th:only-of-type {\n",
              "        vertical-align: middle;\n",
              "    }\n",
              "\n",
              "    .dataframe tbody tr th {\n",
              "        vertical-align: top;\n",
              "    }\n",
              "\n",
              "    .dataframe thead th {\n",
              "        text-align: right;\n",
              "    }\n",
              "</style>\n",
              "<table border=\"1\" class=\"dataframe\">\n",
              "  <thead>\n",
              "    <tr style=\"text-align: right;\">\n",
              "      <th></th>\n",
              "      <th>Pregnancies</th>\n",
              "      <th>Glucose</th>\n",
              "      <th>BloodPressure</th>\n",
              "      <th>SkinThickness</th>\n",
              "      <th>Insulin</th>\n",
              "      <th>BMI</th>\n",
              "      <th>DiabetesPedigreeFunction</th>\n",
              "      <th>Age</th>\n",
              "      <th>Outcome</th>\n",
              "    </tr>\n",
              "  </thead>\n",
              "  <tbody>\n",
              "    <tr>\n",
              "      <th>0</th>\n",
              "      <td>6</td>\n",
              "      <td>148</td>\n",
              "      <td>72</td>\n",
              "      <td>35</td>\n",
              "      <td>0</td>\n",
              "      <td>33.6</td>\n",
              "      <td>0.627</td>\n",
              "      <td>50</td>\n",
              "      <td>1</td>\n",
              "    </tr>\n",
              "    <tr>\n",
              "      <th>1</th>\n",
              "      <td>1</td>\n",
              "      <td>85</td>\n",
              "      <td>66</td>\n",
              "      <td>29</td>\n",
              "      <td>0</td>\n",
              "      <td>26.6</td>\n",
              "      <td>0.351</td>\n",
              "      <td>31</td>\n",
              "      <td>0</td>\n",
              "    </tr>\n",
              "    <tr>\n",
              "      <th>2</th>\n",
              "      <td>8</td>\n",
              "      <td>183</td>\n",
              "      <td>64</td>\n",
              "      <td>0</td>\n",
              "      <td>0</td>\n",
              "      <td>23.3</td>\n",
              "      <td>0.672</td>\n",
              "      <td>32</td>\n",
              "      <td>1</td>\n",
              "    </tr>\n",
              "    <tr>\n",
              "      <th>3</th>\n",
              "      <td>1</td>\n",
              "      <td>89</td>\n",
              "      <td>66</td>\n",
              "      <td>23</td>\n",
              "      <td>94</td>\n",
              "      <td>28.1</td>\n",
              "      <td>0.167</td>\n",
              "      <td>21</td>\n",
              "      <td>0</td>\n",
              "    </tr>\n",
              "    <tr>\n",
              "      <th>4</th>\n",
              "      <td>0</td>\n",
              "      <td>137</td>\n",
              "      <td>40</td>\n",
              "      <td>35</td>\n",
              "      <td>168</td>\n",
              "      <td>43.1</td>\n",
              "      <td>2.288</td>\n",
              "      <td>33</td>\n",
              "      <td>1</td>\n",
              "    </tr>\n",
              "  </tbody>\n",
              "</table>\n",
              "</div>"
            ],
            "text/plain": [
              "   Pregnancies  Glucose  BloodPressure  ...  DiabetesPedigreeFunction  Age  Outcome\n",
              "0            6      148             72  ...                     0.627   50        1\n",
              "1            1       85             66  ...                     0.351   31        0\n",
              "2            8      183             64  ...                     0.672   32        1\n",
              "3            1       89             66  ...                     0.167   21        0\n",
              "4            0      137             40  ...                     2.288   33        1\n",
              "\n",
              "[5 rows x 9 columns]"
            ]
          },
          "metadata": {
            "tags": []
          },
          "execution_count": 3
        }
      ]
    },
    {
      "cell_type": "code",
      "metadata": {
        "id": "V81RuVaUlAnu"
      },
      "source": [
        "x=df.drop(columns=[\"Outcome\"])\n",
        "y=df[\"Outcome\"]"
      ],
      "execution_count": 4,
      "outputs": []
    },
    {
      "cell_type": "code",
      "metadata": {
        "colab": {
          "base_uri": "https://localhost:8080/"
        },
        "id": "Bs1GEnMBlL7p",
        "outputId": "ed16bf66-290f-4c5f-b917-fdebff90af40"
      },
      "source": [
        "from keras.models import Sequential\n",
        "from keras.layers import Dense\n",
        "\n",
        "# making a sequential model\n",
        "model=Sequential()\n",
        "#input hidden layer\n",
        "model.add(Dense(15,input_dim=8,activation='relu'))\n",
        "#hidden layer\n",
        "model.add(Dense(10,activation='relu'))\n",
        "#outut layer\n",
        "model.add(Dense(1,activation='sigmoid'))\n",
        "\n",
        "model.compile(loss='binary_crossentropy',optimizer='adam',metrics=['accuracy'])\n",
        "model.summary()\n"
      ],
      "execution_count": 9,
      "outputs": [
        {
          "output_type": "stream",
          "text": [
            "Model: \"sequential_1\"\n",
            "_________________________________________________________________\n",
            "Layer (type)                 Output Shape              Param #   \n",
            "=================================================================\n",
            "dense_3 (Dense)              (None, 15)                135       \n",
            "_________________________________________________________________\n",
            "dense_4 (Dense)              (None, 10)                160       \n",
            "_________________________________________________________________\n",
            "dense_5 (Dense)              (None, 1)                 11        \n",
            "=================================================================\n",
            "Total params: 306\n",
            "Trainable params: 306\n",
            "Non-trainable params: 0\n",
            "_________________________________________________________________\n"
          ],
          "name": "stdout"
        }
      ]
    },
    {
      "cell_type": "code",
      "metadata": {
        "colab": {
          "base_uri": "https://localhost:8080/"
        },
        "id": "5L2pZ9e1qHxq",
        "outputId": "205dbe6d-a328-4aee-dd52-3c25159888ba"
      },
      "source": [
        "#epoch = 50\n",
        "# batch 10\n",
        "\n",
        "history=model.fit(x,y,epochs=50,batch_size=10)"
      ],
      "execution_count": 28,
      "outputs": [
        {
          "output_type": "stream",
          "text": [
            "Epoch 1/47\n",
            "24/24 [==============================] - 0s 2ms/step - loss: 0.4927 - accuracy: 0.7500\n",
            "Epoch 2/47\n",
            "24/24 [==============================] - 0s 2ms/step - loss: 0.4869 - accuracy: 0.7552\n",
            "Epoch 3/47\n",
            "24/24 [==============================] - 0s 2ms/step - loss: 0.4858 - accuracy: 0.7552\n",
            "Epoch 4/47\n",
            "24/24 [==============================] - 0s 2ms/step - loss: 0.4855 - accuracy: 0.7513\n",
            "Epoch 5/47\n",
            "24/24 [==============================] - 0s 2ms/step - loss: 0.4874 - accuracy: 0.7539\n",
            "Epoch 6/47\n",
            "24/24 [==============================] - 0s 2ms/step - loss: 0.4964 - accuracy: 0.7513\n",
            "Epoch 7/47\n",
            "24/24 [==============================] - 0s 2ms/step - loss: 0.4902 - accuracy: 0.7526\n",
            "Epoch 8/47\n",
            "24/24 [==============================] - 0s 2ms/step - loss: 0.4907 - accuracy: 0.7604\n",
            "Epoch 9/47\n",
            "24/24 [==============================] - 0s 2ms/step - loss: 0.4890 - accuracy: 0.7539\n",
            "Epoch 10/47\n",
            "24/24 [==============================] - 0s 3ms/step - loss: 0.4901 - accuracy: 0.7474\n",
            "Epoch 11/47\n",
            "24/24 [==============================] - 0s 3ms/step - loss: 0.4869 - accuracy: 0.7539\n",
            "Epoch 12/47\n",
            "24/24 [==============================] - 0s 2ms/step - loss: 0.4865 - accuracy: 0.7552\n",
            "Epoch 13/47\n",
            "24/24 [==============================] - 0s 2ms/step - loss: 0.4857 - accuracy: 0.7513\n",
            "Epoch 14/47\n",
            "24/24 [==============================] - 0s 2ms/step - loss: 0.4927 - accuracy: 0.7526\n",
            "Epoch 15/47\n",
            "24/24 [==============================] - 0s 2ms/step - loss: 0.4922 - accuracy: 0.7591\n",
            "Epoch 16/47\n",
            "24/24 [==============================] - 0s 2ms/step - loss: 0.4858 - accuracy: 0.7539\n",
            "Epoch 17/47\n",
            "24/24 [==============================] - 0s 2ms/step - loss: 0.4906 - accuracy: 0.7357\n",
            "Epoch 18/47\n",
            "24/24 [==============================] - 0s 2ms/step - loss: 0.4818 - accuracy: 0.7526\n",
            "Epoch 19/47\n",
            "24/24 [==============================] - 0s 2ms/step - loss: 0.4916 - accuracy: 0.7539\n",
            "Epoch 20/47\n",
            "24/24 [==============================] - 0s 2ms/step - loss: 0.4855 - accuracy: 0.7552\n",
            "Epoch 21/47\n",
            "24/24 [==============================] - 0s 3ms/step - loss: 0.4847 - accuracy: 0.7565\n",
            "Epoch 22/47\n",
            "24/24 [==============================] - 0s 2ms/step - loss: 0.4825 - accuracy: 0.7565\n",
            "Epoch 23/47\n",
            "24/24 [==============================] - 0s 2ms/step - loss: 0.4827 - accuracy: 0.7539\n",
            "Epoch 24/47\n",
            "24/24 [==============================] - 0s 2ms/step - loss: 0.4845 - accuracy: 0.7539\n",
            "Epoch 25/47\n",
            "24/24 [==============================] - 0s 2ms/step - loss: 0.4877 - accuracy: 0.7552\n",
            "Epoch 26/47\n",
            "24/24 [==============================] - 0s 2ms/step - loss: 0.4793 - accuracy: 0.7565\n",
            "Epoch 27/47\n",
            "24/24 [==============================] - 0s 2ms/step - loss: 0.4796 - accuracy: 0.7565\n",
            "Epoch 28/47\n",
            "24/24 [==============================] - 0s 3ms/step - loss: 0.4840 - accuracy: 0.7656\n",
            "Epoch 29/47\n",
            "24/24 [==============================] - 0s 2ms/step - loss: 0.4940 - accuracy: 0.7461\n",
            "Epoch 30/47\n",
            "24/24 [==============================] - 0s 2ms/step - loss: 0.4876 - accuracy: 0.7487\n",
            "Epoch 31/47\n",
            "24/24 [==============================] - 0s 2ms/step - loss: 0.4836 - accuracy: 0.7500\n",
            "Epoch 32/47\n",
            "24/24 [==============================] - 0s 2ms/step - loss: 0.4802 - accuracy: 0.7539\n",
            "Epoch 33/47\n",
            "24/24 [==============================] - 0s 3ms/step - loss: 0.4844 - accuracy: 0.7565\n",
            "Epoch 34/47\n",
            "24/24 [==============================] - 0s 2ms/step - loss: 0.4803 - accuracy: 0.7474\n",
            "Epoch 35/47\n",
            "24/24 [==============================] - 0s 2ms/step - loss: 0.4799 - accuracy: 0.7513\n",
            "Epoch 36/47\n",
            "24/24 [==============================] - 0s 2ms/step - loss: 0.4842 - accuracy: 0.7500\n",
            "Epoch 37/47\n",
            "24/24 [==============================] - 0s 2ms/step - loss: 0.4815 - accuracy: 0.7578\n",
            "Epoch 38/47\n",
            "24/24 [==============================] - 0s 2ms/step - loss: 0.4865 - accuracy: 0.7487\n",
            "Epoch 39/47\n",
            "24/24 [==============================] - 0s 2ms/step - loss: 0.4935 - accuracy: 0.7487\n",
            "Epoch 40/47\n",
            "24/24 [==============================] - 0s 2ms/step - loss: 0.4861 - accuracy: 0.7474\n",
            "Epoch 41/47\n",
            "24/24 [==============================] - 0s 3ms/step - loss: 0.4787 - accuracy: 0.7539\n",
            "Epoch 42/47\n",
            "24/24 [==============================] - 0s 3ms/step - loss: 0.4810 - accuracy: 0.7617\n",
            "Epoch 43/47\n",
            "24/24 [==============================] - 0s 2ms/step - loss: 0.4789 - accuracy: 0.7591\n",
            "Epoch 44/47\n",
            "24/24 [==============================] - 0s 2ms/step - loss: 0.4797 - accuracy: 0.7643\n",
            "Epoch 45/47\n",
            "24/24 [==============================] - 0s 3ms/step - loss: 0.4772 - accuracy: 0.7552\n",
            "Epoch 46/47\n",
            "24/24 [==============================] - 0s 2ms/step - loss: 0.4816 - accuracy: 0.7526\n",
            "Epoch 47/47\n",
            "24/24 [==============================] - 0s 2ms/step - loss: 0.4761 - accuracy: 0.7565\n"
          ],
          "name": "stdout"
        }
      ]
    },
    {
      "cell_type": "code",
      "metadata": {
        "colab": {
          "base_uri": "https://localhost:8080/",
          "height": 334
        },
        "id": "7GNnPf5krY93",
        "outputId": "1ce4d0cb-ab68-4097-ddc0-87139915f493"
      },
      "source": [
        "fig=plt.figure(figsize=(10,5))\n",
        "plt.plot(history.history[\"accuracy\"])\n",
        "plt.xlabel(\"Epochs\")\n",
        "plt.ylabel(\"Accuracy\")\n",
        "a=plt.xticks(range(1,51))\n"
      ],
      "execution_count": 29,
      "outputs": [
        {
          "output_type": "display_data",
          "data": {
            "image/png": "[encoded data removed]",
            "text/plain": [
              "<Figure size 720x360 with 1 Axes>"
            ]
          },
          "metadata": {
            "tags": [],
            "needs_background": "light"
          }
        }
      ]
    },
    {
      "cell_type": "code",
      "metadata": {
        "colab": {
          "base_uri": "https://localhost:8080/",
          "height": 334
        },
        "id": "Coz4-nkNs1WY",
        "outputId": "512593de-e2fd-498e-ad67-f710cac0dd6f"
      },
      "source": [
        "fig=plt.figure(figsize=(10,5))\n",
        "plt.plot(history.history[\"loss\"],color='r')\n",
        "plt.xlabel(\"Epochs\")\n",
        "plt.ylabel(\"loss\")\n",
        "a=plt.xticks(range(1,51))"
      ],
      "execution_count": 30,
      "outputs": [
        {
          "output_type": "display_data",
          "data": {
            "image/png": "[encoded data removed]",
            "text/plain": [
              "<Figure size 720x360 with 1 Axes>"
            ]
          },
          "metadata": {
            "tags": [],
            "needs_background": "light"
          }
        }
      ]
    },
    {
      "cell_type": "code",
      "metadata": {
        "colab": {
          "base_uri": "https://localhost:8080/"
        },
        "id": "K49zPPNNvi0O",
        "outputId": "6a839ff1-394c-45da-e441-f0ef83cf8321"
      },
      "source": [
        "ypred=model.predict_classes(x)"
      ],
      "execution_count": 31,
      "outputs": [
        {
          "output_type": "stream",
          "text": [
            "/usr/local/lib/python3.7/dist-packages/keras/engine/sequential.py:450: UserWarning: `model.predict_classes()` is deprecated and will be removed after 2021-01-01. Please use instead:* `np.argmax(model.predict(x), axis=-1)`,   if your model does multi-class classification   (e.g. if it uses a `softmax` last-layer activation).* `(model.predict(x) > 0.5).astype(\"int32\")`,   if your model does binary classification   (e.g. if it uses a `sigmoid` last-layer activation).\n",
            "  warnings.warn('`model.predict_classes()` is deprecated and '\n"
          ],
          "name": "stderr"
        }
      ]
    },
    {
      "cell_type": "code",
      "metadata": {
        "colab": {
          "base_uri": "https://localhost:8080/"
        },
        "id": "bg98rKf1vppU",
        "outputId": "2b65d3f7-ada0-406f-c38c-3724f2fd37c3"
      },
      "source": [
        "ypred.flatten()"
      ],
      "execution_count": 33,
      "outputs": [
        {
          "output_type": "execute_result",
          "data": {
            "text/plain": [
              "array([0, 0, 1, 0, 1, 0, 0, 1, 1, 0, 0, 1, 0, 1, 1, 0, 0, 0, 0, 0, 0, 0,\n",
              "       1, 0, 1, 1, 1, 0, 0, 0, 0, 1, 0, 0, 0, 1, 1, 0, 0, 1, 0, 1, 0, 1,\n",
              "       1, 1, 0, 0, 0, 0, 0, 0, 0, 1, 1, 0, 1, 0, 0, 0, 0, 1, 0, 1, 0, 0,\n",
              "       0, 0, 0, 0, 0, 1, 1, 0, 0, 0, 0, 0, 1, 0, 1, 0, 0, 0, 0, 0, 0, 0,\n",
              "       0, 0, 0, 0, 0, 0, 0, 1, 0, 0, 0, 0, 1, 1, 0, 0, 0, 0, 0, 1, 0, 0,\n",
              "       1, 1, 0, 0, 1, 0, 0, 0, 0, 0, 0, 1, 0, 0, 0, 1, 0, 0, 0, 0, 1, 1,\n",
              "       1, 0, 0, 0, 0, 0, 0, 0, 0, 0, 0, 0, 1, 0, 0, 0, 1, 0, 1, 0, 1, 0,\n",
              "       1, 1, 0, 0, 0, 0, 0, 0, 0, 0, 0, 0, 1, 0, 0, 0, 0, 0, 0, 0, 0, 1,\n",
              "       0, 0, 1, 0, 0, 0, 0, 0, 0, 1, 1, 0, 0, 0, 0, 0, 1, 1, 0, 1, 0, 0,\n",
              "       0, 1, 0, 0, 0, 0, 1, 0, 1, 1, 0, 1, 0, 0, 1, 0, 0, 1, 0, 1, 0, 0,\n",
              "       1, 1, 0, 1, 0, 0, 0, 1, 1, 0, 1, 1, 0, 0, 0, 1, 1, 1, 1, 0, 0, 0,\n",
              "       1, 1, 1, 1, 1, 0, 1, 0, 0, 0, 0, 0, 1, 0, 0, 0, 0, 1, 0, 1, 0, 1,\n",
              "       0, 0, 1, 1, 0, 1, 0, 0, 0, 0, 1, 0, 0, 0, 0, 0, 0, 1, 0, 0, 0, 1,\n",
              "       1, 0, 0, 0, 0, 0, 0, 1, 0, 1, 1, 0, 1, 0, 1, 1, 0, 0, 0, 0, 1, 0,\n",
              "       0, 0, 0, 0, 0, 0, 0, 0, 0, 1, 0, 0, 1, 0, 0, 0, 0, 0, 0, 1, 0, 0,\n",
              "       0, 0, 1, 0, 0, 1, 0, 0, 1, 1, 0, 0, 0, 0, 0, 0, 0, 1, 0, 1, 0, 0,\n",
              "       0, 0, 0, 0, 1, 1, 0, 1, 1, 0, 0, 1, 0, 0, 0, 0, 0, 0, 1, 0, 0, 0,\n",
              "       1, 1, 0, 0, 1, 0, 0, 0, 0, 0, 0, 0, 0, 0, 1, 0, 1, 1, 0, 0, 0, 0,\n",
              "       1, 0, 0, 1, 0, 0, 0, 0, 1, 1, 0, 0, 1, 1, 0, 0, 0, 0, 0, 0, 0, 0,\n",
              "       0, 0, 0, 0, 0, 0, 1, 1, 0, 1, 0, 0, 0, 0, 0, 0, 0, 1, 0, 0, 0, 0,\n",
              "       0, 0, 0, 0, 0, 1, 0, 0, 0, 0, 0, 0, 0, 0, 0, 1, 0, 0, 1, 0, 0, 0,\n",
              "       0, 0, 0, 0, 0, 0, 0, 1, 0, 0, 0, 0, 0, 0, 0, 0, 0, 0, 1, 0, 0, 0,\n",
              "       1, 1, 0, 1, 0, 0, 0, 0, 0, 1, 0, 1, 0, 0, 1, 1, 0, 0, 1, 0, 0, 0,\n",
              "       0, 0, 0, 0, 0, 0, 0, 0, 0, 0, 1, 0, 0, 0, 0, 0, 0, 1, 0, 0, 0, 0,\n",
              "       0, 0, 0, 0, 0, 0, 0, 1, 0, 0, 0, 0, 1, 0, 0, 0, 0, 1, 1, 0, 0, 0,\n",
              "       0, 0, 0, 0, 0, 1, 0, 0, 1, 0, 0, 1, 0, 0, 0, 0, 0, 0, 1, 0, 0, 0,\n",
              "       0, 0, 0, 0, 1, 0, 1, 1, 0, 0, 0, 0, 1, 0, 1, 0, 1, 0, 0, 0, 0, 0,\n",
              "       1, 0, 0, 0, 0, 1, 0, 0, 0, 1, 1, 1, 1, 0, 0, 0, 0, 1, 1, 0, 1, 0,\n",
              "       0, 0, 0, 1, 0, 0, 1, 0, 0, 0, 0, 0, 0, 0, 0, 0, 0, 0, 0, 1, 0, 0,\n",
              "       0, 0, 0, 0, 0, 0, 0, 1, 0, 1, 1, 0, 0, 0, 0, 0, 0, 1, 0, 1, 0, 0,\n",
              "       0, 1, 1, 1, 0, 0, 1, 0, 1, 0, 1, 0, 0, 0, 0, 1, 0, 0, 1, 0, 0, 1,\n",
              "       0, 0, 0, 0, 0, 0, 0, 1, 0, 1, 0, 1, 0, 1, 1, 0, 0, 0, 0, 0, 0, 0,\n",
              "       0, 0, 0, 1, 1, 0, 0, 0, 1, 0, 0, 1, 1, 0, 0, 0, 0, 0, 1, 0, 0, 0,\n",
              "       0, 0, 0, 0, 0, 0, 0, 0, 0, 0, 0, 0, 0, 0, 1, 0, 0, 0, 1, 0, 0, 0,\n",
              "       1, 0, 0, 0, 0, 1, 1, 0, 0, 0, 0, 1, 0, 1, 0, 1, 0, 0, 0, 0],\n",
              "      dtype=int32)"
            ]
          },
          "metadata": {
            "tags": []
          },
          "execution_count": 33
        }
      ]
    },
    {
      "cell_type": "code",
      "metadata": {
        "colab": {
          "base_uri": "https://localhost:8080/"
        },
        "id": "pMOnYh0ivsLB",
        "outputId": "f0046c71-ad9f-4b43-8ed6-91b49227a128"
      },
      "source": [
        "loss,acc=model.evaluate(x,y)"
      ],
      "execution_count": 34,
      "outputs": [
        {
          "output_type": "stream",
          "text": [
            "24/24 [==============================] - 1s 1ms/step - loss: 0.4750 - accuracy: 0.7552\n"
          ],
          "name": "stdout"
        }
      ]
    },
    {
      "cell_type": "code",
      "metadata": {
        "colab": {
          "base_uri": "https://localhost:8080/"
        },
        "id": "H-V1LVl6v7b-",
        "outputId": "279ca0ad-4693-4696-822d-ff2d99624cb3"
      },
      "source": [
        "loss"
      ],
      "execution_count": 35,
      "outputs": [
        {
          "output_type": "execute_result",
          "data": {
            "text/plain": [
              "0.4750058352947235"
            ]
          },
          "metadata": {
            "tags": []
          },
          "execution_count": 35
        }
      ]
    },
    {
      "cell_type": "code",
      "metadata": {
        "colab": {
          "base_uri": "https://localhost:8080/"
        },
        "id": "0XLi4b31v88o",
        "outputId": "5cce1e32-ec8e-4af0-b2ec-157511a81864"
      },
      "source": [
        "acc"
      ],
      "execution_count": 36,
      "outputs": [
        {
          "output_type": "execute_result",
          "data": {
            "text/plain": [
              "0.7552083134651184"
            ]
          },
          "metadata": {
            "tags": []
          },
          "execution_count": 36
        }
      ]
    },
    {
      "cell_type": "code",
      "metadata": {
        "id": "ghQtUxfAzOL3"
      },
      "source": [
        "'''ntlk \n",
        "\n",
        "review \n",
        "good bad \n",
        "\n",
        "sentiment \n",
        "\n",
        "tf id vec\n",
        "word2vec\n",
        "embedding of wors\n",
        "text normaliation\n",
        "\n",
        "'''"
      ],
      "execution_count": null,
      "outputs": []
    }
  ]
}