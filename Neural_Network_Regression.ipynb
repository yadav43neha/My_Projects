{
  "nbformat": 4,
  "nbformat_minor": 0,
  "metadata": {
    "colab": {
      "name": "Neural Network Regression.ipynb",
      "provenance": []
    },
    "kernelspec": {
      "name": "python3",
      "display_name": "Python 3"
    },
    "language_info": {
      "name": "python"
    }
  },
  "cells": [
    {
      "cell_type": "code",
      "metadata": {
        "id": "MAxWQwEtfNh9"
      },
      "source": [
        "import pandas as pd\n",
        "import numpy as np\n",
        "import seaborn as sns\n",
        "import matplotlib.pyplot as plt"
      ],
      "execution_count": 1,
      "outputs": []
    },
    {
      "cell_type": "code",
      "metadata": {
        "colab": {
          "base_uri": "https://localhost:8080/",
          "height": 226
        },
        "id": "-OFN9xItgDkJ",
        "outputId": "79a8f1ac-50da-4e7b-c98e-5c636098fa0b"
      },
      "source": [
        "train=pd.read_csv(\"/content/sample_data/california_housing_train.csv\")\n",
        "train.head()"
      ],
      "execution_count": 3,
      "outputs": [
        {
          "output_type": "execute_result",
          "data": {
            "text/html": [
              "<div>\n",
              "<style scoped>\n",
              "    .dataframe tbody tr th:only-of-type {\n",
              "        vertical-align: middle;\n",
              "    }\n",
              "\n",
              "    .dataframe tbody tr th {\n",
              "        vertical-align: top;\n",
              "    }\n",
              "\n",
              "    .dataframe thead th {\n",
              "        text-align: right;\n",
              "    }\n",
              "</style>\n",
              "<table border=\"1\" class=\"dataframe\">\n",
              "  <thead>\n",
              "    <tr style=\"text-align: right;\">\n",
              "      <th></th>\n",
              "      <th>longitude</th>\n",
              "      <th>latitude</th>\n",
              "      <th>housing_median_age</th>\n",
              "      <th>total_rooms</th>\n",
              "      <th>total_bedrooms</th>\n",
              "      <th>population</th>\n",
              "      <th>households</th>\n",
              "      <th>median_income</th>\n",
              "      <th>median_house_value</th>\n",
              "    </tr>\n",
              "  </thead>\n",
              "  <tbody>\n",
              "    <tr>\n",
              "      <th>0</th>\n",
              "      <td>-114.31</td>\n",
              "      <td>34.19</td>\n",
              "      <td>15.0</td>\n",
              "      <td>5612.0</td>\n",
              "      <td>1283.0</td>\n",
              "      <td>1015.0</td>\n",
              "      <td>472.0</td>\n",
              "      <td>1.4936</td>\n",
              "      <td>66900.0</td>\n",
              "    </tr>\n",
              "    <tr>\n",
              "      <th>1</th>\n",
              "      <td>-114.47</td>\n",
              "      <td>34.40</td>\n",
              "      <td>19.0</td>\n",
              "      <td>7650.0</td>\n",
              "      <td>1901.0</td>\n",
              "      <td>1129.0</td>\n",
              "      <td>463.0</td>\n",
              "      <td>1.8200</td>\n",
              "      <td>80100.0</td>\n",
              "    </tr>\n",
              "    <tr>\n",
              "      <th>2</th>\n",
              "      <td>-114.56</td>\n",
              "      <td>33.69</td>\n",
              "      <td>17.0</td>\n",
              "      <td>720.0</td>\n",
              "      <td>174.0</td>\n",
              "      <td>333.0</td>\n",
              "      <td>117.0</td>\n",
              "      <td>1.6509</td>\n",
              "      <td>85700.0</td>\n",
              "    </tr>\n",
              "    <tr>\n",
              "      <th>3</th>\n",
              "      <td>-114.57</td>\n",
              "      <td>33.64</td>\n",
              "      <td>14.0</td>\n",
              "      <td>1501.0</td>\n",
              "      <td>337.0</td>\n",
              "      <td>515.0</td>\n",
              "      <td>226.0</td>\n",
              "      <td>3.1917</td>\n",
              "      <td>73400.0</td>\n",
              "    </tr>\n",
              "    <tr>\n",
              "      <th>4</th>\n",
              "      <td>-114.57</td>\n",
              "      <td>33.57</td>\n",
              "      <td>20.0</td>\n",
              "      <td>1454.0</td>\n",
              "      <td>326.0</td>\n",
              "      <td>624.0</td>\n",
              "      <td>262.0</td>\n",
              "      <td>1.9250</td>\n",
              "      <td>65500.0</td>\n",
              "    </tr>\n",
              "  </tbody>\n",
              "</table>\n",
              "</div>"
            ],
            "text/plain": [
              "   longitude  latitude  ...  median_income  median_house_value\n",
              "0    -114.31     34.19  ...         1.4936             66900.0\n",
              "1    -114.47     34.40  ...         1.8200             80100.0\n",
              "2    -114.56     33.69  ...         1.6509             85700.0\n",
              "3    -114.57     33.64  ...         3.1917             73400.0\n",
              "4    -114.57     33.57  ...         1.9250             65500.0\n",
              "\n",
              "[5 rows x 9 columns]"
            ]
          },
          "metadata": {
            "tags": []
          },
          "execution_count": 3
        }
      ]
    },
    {
      "cell_type": "code",
      "metadata": {
        "id": "yeUhR4wxgV9m"
      },
      "source": [
        "xtrain=train.drop(columns=[\"median_house_value\"])\n",
        "ytrain=train[\"median_house_value\"]"
      ],
      "execution_count": 5,
      "outputs": []
    },
    {
      "cell_type": "code",
      "metadata": {
        "id": "OiBBYs_vhE5u"
      },
      "source": [
        "test=pd.read_csv(\"/content/sample_data/california_housing_test.csv\")\n",
        "xtest=test.drop(columns=[\"median_house_value\"])\n",
        "ytest=test[\"median_house_value\"]"
      ],
      "execution_count": 7,
      "outputs": []
    },
    {
      "cell_type": "code",
      "metadata": {
        "id": "GjMtqbiAgL-j"
      },
      "source": [
        "from sklearn.preprocessing import StandardScaler\n",
        "sc=StandardScaler()\n",
        "sc_xtrain=sc.fit_transform(xtrain)\n",
        "sc_test=sc.fit_transform(xtest)"
      ],
      "execution_count": 8,
      "outputs": []
    },
    {
      "cell_type": "code",
      "metadata": {
        "colab": {
          "base_uri": "https://localhost:8080/"
        },
        "id": "h-72bSP7iH27",
        "outputId": "1e610e29-2669-49ff-d1e7-6744d4967210"
      },
      "source": [
        "xtrain.shape"
      ],
      "execution_count": 9,
      "outputs": [
        {
          "output_type": "execute_result",
          "data": {
            "text/plain": [
              "(17000, 8)"
            ]
          },
          "metadata": {
            "tags": []
          },
          "execution_count": 9
        }
      ]
    },
    {
      "cell_type": "code",
      "metadata": {
        "colab": {
          "base_uri": "https://localhost:8080/"
        },
        "id": "pYXIN4kphjXG",
        "outputId": "e8c004f0-5829-414d-aed7-9365e5d1648f"
      },
      "source": [
        "from keras.layers import Dense\n",
        "from keras.models import Sequential\n",
        "model=Sequential()\n",
        "#Input Layer\n",
        "model.add(Dense(15,activation='relu',input_dim=8))\n",
        "#Hidden Layer\n",
        "model.add(Dense(10,activation='relu'))\n",
        "#Output Layer\n",
        "model.add(Dense(1,activation='linear'))\n",
        "model.summary()"
      ],
      "execution_count": 25,
      "outputs": [
        {
          "output_type": "stream",
          "text": [
            "Model: \"sequential_2\"\n",
            "_________________________________________________________________\n",
            "Layer (type)                 Output Shape              Param #   \n",
            "=================================================================\n",
            "dense_6 (Dense)              (None, 15)                135       \n",
            "_________________________________________________________________\n",
            "dense_7 (Dense)              (None, 10)                160       \n",
            "_________________________________________________________________\n",
            "dense_8 (Dense)              (None, 1)                 11        \n",
            "=================================================================\n",
            "Total params: 306\n",
            "Trainable params: 306\n",
            "Non-trainable params: 0\n",
            "_________________________________________________________________\n"
          ],
          "name": "stdout"
        }
      ]
    },
    {
      "cell_type": "code",
      "metadata": {
        "id": "oWX8LuuOoyRx"
      },
      "source": [
        "from keras.optimizers import SGD   # Stochastic Gradient descent\n",
        "model.compile(loss='mean_absolute_error',optimizer=SGD(),metrics=['mse'])"
      ],
      "execution_count": null,
      "outputs": []
    },
    {
      "cell_type": "code",
      "metadata": {
        "id": "BrjONvIDiToT"
      },
      "source": [
        "model.compile(loss='mean_absolute_error',optimizer=\"adam\",metrics=['mse'])"
      ],
      "execution_count": 26,
      "outputs": []
    },
    {
      "cell_type": "markdown",
      "metadata": {
        "id": "fi5Iun-Mo2d7"
      },
      "source": [
        "Tried Stochastic Gradient Descent but adam is giving less loss"
      ]
    },
    {
      "cell_type": "code",
      "metadata": {
        "colab": {
          "base_uri": "https://localhost:8080/"
        },
        "id": "ZzdW9eLYkHyU",
        "outputId": "c897196d-6621-4cfd-c522-56ffe44e5e69"
      },
      "source": [
        "history=model.fit(sc_xtrain,ytrain,epochs=25,batch_size=10)"
      ],
      "execution_count": 27,
      "outputs": [
        {
          "output_type": "stream",
          "text": [
            "Epoch 1/25\n",
            "1700/1700 [==============================] - 4s 2ms/step - loss: 206470.2295 - mse: 56037403518.5703\n",
            "Epoch 2/25\n",
            "1700/1700 [==============================] - 3s 2ms/step - loss: 199861.0696 - mse: 53232692292.0259\n",
            "Epoch 3/25\n",
            "1700/1700 [==============================] - 3s 2ms/step - loss: 173812.3908 - mse: 43731765157.7002\n",
            "Epoch 4/25\n",
            "1700/1700 [==============================] - 3s 2ms/step - loss: 137223.0839 - mse: 31261948111.0876\n",
            "Epoch 5/25\n",
            "1700/1700 [==============================] - 3s 2ms/step - loss: 110039.5236 - mse: 22168090098.4550\n",
            "Epoch 6/25\n",
            "1700/1700 [==============================] - 3s 2ms/step - loss: 94695.7213 - mse: 16714319673.3404\n",
            "Epoch 7/25\n",
            "1700/1700 [==============================] - 3s 2ms/step - loss: 86702.5569 - mse: 14268634073.4721\n",
            "Epoch 8/25\n",
            "1700/1700 [==============================] - 3s 2ms/step - loss: 79511.4320 - mse: 12273552671.7554\n",
            "Epoch 9/25\n",
            "1700/1700 [==============================] - 3s 2ms/step - loss: 75351.2843 - mse: 11117337032.3151\n",
            "Epoch 10/25\n",
            "1700/1700 [==============================] - 3s 2ms/step - loss: 70611.1679 - mse: 9986927589.8131\n",
            "Epoch 11/25\n",
            "1700/1700 [==============================] - 3s 2ms/step - loss: 66256.3906 - mse: 8753036073.6884\n",
            "Epoch 12/25\n",
            "1700/1700 [==============================] - 3s 2ms/step - loss: 62965.8017 - mse: 7903610119.8260\n",
            "Epoch 13/25\n",
            "1700/1700 [==============================] - 3s 2ms/step - loss: 61247.1768 - mse: 7651928151.2898\n",
            "Epoch 14/25\n",
            "1700/1700 [==============================] - 3s 2ms/step - loss: 59449.5343 - mse: 7199929790.9841\n",
            "Epoch 15/25\n",
            "1700/1700 [==============================] - 3s 2ms/step - loss: 57933.5640 - mse: 6814235311.7837\n",
            "Epoch 16/25\n",
            "1700/1700 [==============================] - 3s 2ms/step - loss: 56401.6872 - mse: 6431283979.5885\n",
            "Epoch 17/25\n",
            "1700/1700 [==============================] - 3s 1ms/step - loss: 55883.1304 - mse: 6404550234.6008\n",
            "Epoch 18/25\n",
            "1700/1700 [==============================] - 2s 1ms/step - loss: 54124.8771 - mse: 5974179384.5879\n",
            "Epoch 19/25\n",
            "1700/1700 [==============================] - 3s 2ms/step - loss: 53745.4805 - mse: 5905805031.7695\n",
            "Epoch 20/25\n",
            "1700/1700 [==============================] - 3s 2ms/step - loss: 52695.2205 - mse: 5675113379.8942\n",
            "Epoch 21/25\n",
            "1700/1700 [==============================] - 3s 2ms/step - loss: 51178.1566 - mse: 5352123652.6655\n",
            "Epoch 22/25\n",
            "1700/1700 [==============================] - 3s 2ms/step - loss: 51427.0140 - mse: 5415270986.3469\n",
            "Epoch 23/25\n",
            "1700/1700 [==============================] - 3s 2ms/step - loss: 52025.7041 - mse: 5518892039.2240\n",
            "Epoch 24/25\n",
            "1700/1700 [==============================] - 3s 2ms/step - loss: 49341.8597 - mse: 4986524132.1576\n",
            "Epoch 25/25\n",
            "1700/1700 [==============================] - 3s 2ms/step - loss: 50142.8826 - mse: 5205323571.9224\n"
          ],
          "name": "stdout"
        }
      ]
    },
    {
      "cell_type": "code",
      "metadata": {
        "colab": {
          "base_uri": "https://localhost:8080/"
        },
        "id": "d175o9y9kTAo",
        "outputId": "23614e66-4bf9-4148-c705-01561ab81f14"
      },
      "source": [
        "model.evaluate(sc_xtrain,ytrain)"
      ],
      "execution_count": 28,
      "outputs": [
        {
          "output_type": "stream",
          "text": [
            "532/532 [==============================] - 1s 2ms/step - loss: 49659.5547 - mse: 5095112704.0000\n"
          ],
          "name": "stdout"
        },
        {
          "output_type": "execute_result",
          "data": {
            "text/plain": [
              "[49659.5546875, 5095112704.0]"
            ]
          },
          "metadata": {
            "tags": []
          },
          "execution_count": 28
        }
      ]
    },
    {
      "cell_type": "code",
      "metadata": {
        "colab": {
          "base_uri": "https://localhost:8080/",
          "height": 283
        },
        "id": "_dbJfooHlA95",
        "outputId": "bed10b8f-3383-4813-83e2-e4c486156049"
      },
      "source": [
        "plt.plot(history.history['loss'])"
      ],
      "execution_count": 29,
      "outputs": [
        {
          "output_type": "execute_result",
          "data": {
            "text/plain": [
              "[<matplotlib.lines.Line2D at 0x7f9bda612b50>]"
            ]
          },
          "metadata": {
            "tags": []
          },
          "execution_count": 29
        },
        {
          "output_type": "display_data",
          "data": {
            "image/png": "[encoded data removed]",
            "text/plain": [
              "<Figure size 432x288 with 1 Axes>"
            ]
          },
          "metadata": {
            "tags": [],
            "needs_background": "light"
          }
        }
      ]
    },
    {
      "cell_type": "code",
      "metadata": {
        "colab": {
          "base_uri": "https://localhost:8080/",
          "height": 294
        },
        "id": "thlOdDsilJzw",
        "outputId": "1b8bd6cc-95b0-4843-bccd-d9895fdd3e55"
      },
      "source": [
        "plt.plot(history.history['mse'])"
      ],
      "execution_count": 30,
      "outputs": [
        {
          "output_type": "execute_result",
          "data": {
            "text/plain": [
              "[<matplotlib.lines.Line2D at 0x7f9bda5f7610>]"
            ]
          },
          "metadata": {
            "tags": []
          },
          "execution_count": 30
        },
        {
          "output_type": "display_data",
          "data": {
            "image/png": "[encoded data removed]",
            "text/plain": [
              "<Figure size 432x288 with 1 Axes>"
            ]
          },
          "metadata": {
            "tags": [],
            "needs_background": "light"
          }
        }
      ]
    },
    {
      "cell_type": "code",
      "metadata": {
        "id": "D47aSZNTlSZL"
      },
      "source": [
        "ypred=model.predict(sc_test)"
      ],
      "execution_count": 31,
      "outputs": []
    },
    {
      "cell_type": "code",
      "metadata": {
        "colab": {
          "base_uri": "https://localhost:8080/"
        },
        "id": "6YGVGXr4lafB",
        "outputId": "9558c84b-504b-4892-9a87-98ac847e0190"
      },
      "source": [
        "#Evaluation of model on testing data\n",
        "model.evaluate(sc_test,ytest)"
      ],
      "execution_count": 32,
      "outputs": [
        {
          "output_type": "stream",
          "text": [
            "94/94 [==============================] - 0s 1ms/step - loss: 49394.4258 - mse: 5088572928.0000\n"
          ],
          "name": "stdout"
        },
        {
          "output_type": "execute_result",
          "data": {
            "text/plain": [
              "[49394.42578125, 5088572928.0]"
            ]
          },
          "metadata": {
            "tags": []
          },
          "execution_count": 32
        }
      ]
    },
    {
      "cell_type": "code",
      "metadata": {
        "colab": {
          "base_uri": "https://localhost:8080/",
          "height": 423
        },
        "id": "UwNp4Ed4lokQ",
        "outputId": "2c8d5791-8735-4d3f-cbea-483c2bc0402d"
      },
      "source": [
        "pd.DataFrame({\"Actual\":np.array(ytest).flatten(),\"Predicted\":ypred.flatten()})"
      ],
      "execution_count": 33,
      "outputs": [
        {
          "output_type": "execute_result",
          "data": {
            "text/html": [
              "<div>\n",
              "<style scoped>\n",
              "    .dataframe tbody tr th:only-of-type {\n",
              "        vertical-align: middle;\n",
              "    }\n",
              "\n",
              "    .dataframe tbody tr th {\n",
              "        vertical-align: top;\n",
              "    }\n",
              "\n",
              "    .dataframe thead th {\n",
              "        text-align: right;\n",
              "    }\n",
              "</style>\n",
              "<table border=\"1\" class=\"dataframe\">\n",
              "  <thead>\n",
              "    <tr style=\"text-align: right;\">\n",
              "      <th></th>\n",
              "      <th>Actual</th>\n",
              "      <th>Predicted</th>\n",
              "    </tr>\n",
              "  </thead>\n",
              "  <tbody>\n",
              "    <tr>\n",
              "      <th>0</th>\n",
              "      <td>344700.0</td>\n",
              "      <td>348989.750000</td>\n",
              "    </tr>\n",
              "    <tr>\n",
              "      <th>1</th>\n",
              "      <td>176500.0</td>\n",
              "      <td>201875.046875</td>\n",
              "    </tr>\n",
              "    <tr>\n",
              "      <th>2</th>\n",
              "      <td>270500.0</td>\n",
              "      <td>278318.312500</td>\n",
              "    </tr>\n",
              "    <tr>\n",
              "      <th>3</th>\n",
              "      <td>330000.0</td>\n",
              "      <td>309939.218750</td>\n",
              "    </tr>\n",
              "    <tr>\n",
              "      <th>4</th>\n",
              "      <td>81700.0</td>\n",
              "      <td>100134.593750</td>\n",
              "    </tr>\n",
              "    <tr>\n",
              "      <th>...</th>\n",
              "      <td>...</td>\n",
              "      <td>...</td>\n",
              "    </tr>\n",
              "    <tr>\n",
              "      <th>2995</th>\n",
              "      <td>225000.0</td>\n",
              "      <td>127803.718750</td>\n",
              "    </tr>\n",
              "    <tr>\n",
              "      <th>2996</th>\n",
              "      <td>237200.0</td>\n",
              "      <td>164967.296875</td>\n",
              "    </tr>\n",
              "    <tr>\n",
              "      <th>2997</th>\n",
              "      <td>62000.0</td>\n",
              "      <td>70850.445312</td>\n",
              "    </tr>\n",
              "    <tr>\n",
              "      <th>2998</th>\n",
              "      <td>162500.0</td>\n",
              "      <td>154619.781250</td>\n",
              "    </tr>\n",
              "    <tr>\n",
              "      <th>2999</th>\n",
              "      <td>500001.0</td>\n",
              "      <td>472354.750000</td>\n",
              "    </tr>\n",
              "  </tbody>\n",
              "</table>\n",
              "<p>3000 rows × 2 columns</p>\n",
              "</div>"
            ],
            "text/plain": [
              "        Actual      Predicted\n",
              "0     344700.0  348989.750000\n",
              "1     176500.0  201875.046875\n",
              "2     270500.0  278318.312500\n",
              "3     330000.0  309939.218750\n",
              "4      81700.0  100134.593750\n",
              "...        ...            ...\n",
              "2995  225000.0  127803.718750\n",
              "2996  237200.0  164967.296875\n",
              "2997   62000.0   70850.445312\n",
              "2998  162500.0  154619.781250\n",
              "2999  500001.0  472354.750000\n",
              "\n",
              "[3000 rows x 2 columns]"
            ]
          },
          "metadata": {
            "tags": []
          },
          "execution_count": 33
        }
      ]
    }
  ]
}