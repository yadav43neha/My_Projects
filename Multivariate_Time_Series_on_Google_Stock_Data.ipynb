{
  "nbformat": 4,
  "nbformat_minor": 0,
  "metadata": {
    "colab": {
      "name": "Multivariate Time Series on Google Stock Data.ipynb",
      "provenance": []
    },
    "kernelspec": {
      "name": "python3",
      "display_name": "Python 3"
    },
    "language_info": {
      "name": "python"
    }
  },
  "cells": [
    {
      "cell_type": "code",
      "metadata": {
        "id": "1NhYdja38vKR"
      },
      "source": [
        "import pandas as pd\n",
        "import numpy as np\n",
        "import matplotlib.pyplot as plt\n",
        "import seaborn as sns"
      ],
      "execution_count": null,
      "outputs": []
    },
    {
      "cell_type": "code",
      "metadata": {
        "id": "n26X54lb-S3V"
      },
      "source": [
        "train=pd.read_csv(\"/content/sample_data/Google_Stock_Price_Train.csv\")"
      ],
      "execution_count": null,
      "outputs": []
    },
    {
      "cell_type": "code",
      "metadata": {
        "id": "S965DHmy-Y8Z"
      },
      "source": [
        "xtrain=train[[\"Open\",\"Close\"]]"
      ],
      "execution_count": null,
      "outputs": []
    },
    {
      "cell_type": "code",
      "metadata": {
        "colab": {
          "base_uri": "https://localhost:8080/"
        },
        "id": "EQSb_-sY-gV4",
        "outputId": "3999ef14-d13c-4bd0-8d65-7ad8115a2efa"
      },
      "source": [
        "xtrain.info()"
      ],
      "execution_count": null,
      "outputs": [
        {
          "output_type": "stream",
          "text": [
            "<class 'pandas.core.frame.DataFrame'>\n",
            "RangeIndex: 1258 entries, 0 to 1257\n",
            "Data columns (total 2 columns):\n",
            " #   Column  Non-Null Count  Dtype  \n",
            "---  ------  --------------  -----  \n",
            " 0   Open    1258 non-null   float64\n",
            " 1   Close   1258 non-null   object \n",
            "dtypes: float64(1), object(1)\n",
            "memory usage: 19.8+ KB\n"
          ],
          "name": "stdout"
        }
      ]
    },
    {
      "cell_type": "code",
      "metadata": {
        "colab": {
          "base_uri": "https://localhost:8080/"
        },
        "id": "XolCLbCF-oOi",
        "outputId": "269231ab-f150-4022-b8c2-fe0269dbd5e0"
      },
      "source": [
        "xtrain[\"Close\"]=xtrain[\"Close\"].apply(lambda x: float(x.replace(\",\",\"\")))"
      ],
      "execution_count": null,
      "outputs": [
        {
          "output_type": "stream",
          "text": [
            "/usr/local/lib/python3.7/dist-packages/ipykernel_launcher.py:1: SettingWithCopyWarning: \n",
            "A value is trying to be set on a copy of a slice from a DataFrame.\n",
            "Try using .loc[row_indexer,col_indexer] = value instead\n",
            "\n",
            "See the caveats in the documentation: https://pandas.pydata.org/pandas-docs/stable/user_guide/indexing.html#returning-a-view-versus-a-copy\n",
            "  \"\"\"Entry point for launching an IPython kernel.\n"
          ],
          "name": "stderr"
        }
      ]
    },
    {
      "cell_type": "code",
      "metadata": {
        "colab": {
          "base_uri": "https://localhost:8080/"
        },
        "id": "5lxPuFfX-_GY",
        "outputId": "e3a39e9b-d06a-468f-e7fb-54066fb3872e"
      },
      "source": [
        "xtrain.info()"
      ],
      "execution_count": null,
      "outputs": [
        {
          "output_type": "stream",
          "text": [
            "<class 'pandas.core.frame.DataFrame'>\n",
            "RangeIndex: 1258 entries, 0 to 1257\n",
            "Data columns (total 2 columns):\n",
            " #   Column  Non-Null Count  Dtype  \n",
            "---  ------  --------------  -----  \n",
            " 0   Open    1258 non-null   float64\n",
            " 1   Close   1258 non-null   float64\n",
            "dtypes: float64(2)\n",
            "memory usage: 19.8 KB\n"
          ],
          "name": "stdout"
        }
      ]
    },
    {
      "cell_type": "code",
      "metadata": {
        "id": "iXv27MND-4U3"
      },
      "source": [
        "from sklearn.preprocessing import MinMaxScaler\n",
        "ms=MinMaxScaler()\n",
        "sc_xtrain=ms.fit_transform(xtrain)"
      ],
      "execution_count": null,
      "outputs": []
    },
    {
      "cell_type": "code",
      "metadata": {
        "id": "CSvZPmk9_VRE"
      },
      "source": [
        "out_col=sc_xtrain[:,0]+sc_xtrain[:,1]"
      ],
      "execution_count": null,
      "outputs": []
    },
    {
      "cell_type": "code",
      "metadata": {
        "id": "SSLhWZ02_eMW"
      },
      "source": [
        "data=np.hstack((sc_xtrain[:,0].reshape(-1,1),sc_xtrain[:,1].reshape(-1,1),out_col.reshape(-1,1)))"
      ],
      "execution_count": null,
      "outputs": []
    },
    {
      "cell_type": "code",
      "metadata": {
        "colab": {
          "base_uri": "https://localhost:8080/"
        },
        "id": "FBZjngMnAV8Z",
        "outputId": "981bf804-3576-4221-d0a2-f6b6c55dd240"
      },
      "source": [
        "data"
      ],
      "execution_count": null,
      "outputs": [
        {
          "output_type": "execute_result",
          "data": {
            "text/plain": [
              "array([[0.08581368, 0.23757287, 0.32338654],\n",
              "       [0.09701243, 0.24151427, 0.3385267 ],\n",
              "       [0.09433366, 0.22878051, 0.32311416],\n",
              "       ...,\n",
              "       [0.95725128, 0.40495845, 1.36220973],\n",
              "       [0.93796041, 0.40184391, 1.33980433],\n",
              "       [0.93688146, 0.38672602, 1.32360748]])"
            ]
          },
          "metadata": {
            "tags": []
          },
          "execution_count": 11
        }
      ]
    },
    {
      "cell_type": "code",
      "metadata": {
        "id": "SuYIG6eIAcI_"
      },
      "source": [
        "def timeseriesTransform(n_steps,data):\n",
        "  x=[]\n",
        "  y=[]\n",
        "  for i in range(n_steps,len(data)+1):\n",
        "    x.append(data[i-n_steps:i,:-1])\n",
        "    y.append(data[i-1,-1])\n",
        "  return np.array(x),np.array(y)"
      ],
      "execution_count": null,
      "outputs": []
    },
    {
      "cell_type": "code",
      "metadata": {
        "id": "BAWX64ZDAzsu"
      },
      "source": [
        "n_steps=12\n",
        "x_train,y_train=timeseriesTransform(n_steps,data)"
      ],
      "execution_count": null,
      "outputs": []
    },
    {
      "cell_type": "code",
      "metadata": {
        "colab": {
          "base_uri": "https://localhost:8080/"
        },
        "id": "fEZ_SFhbA_uM",
        "outputId": "aef61ecf-58e2-4b23-e177-e0b219f7e40a"
      },
      "source": [
        "x_train.shape"
      ],
      "execution_count": null,
      "outputs": [
        {
          "output_type": "execute_result",
          "data": {
            "text/plain": [
              "(1247, 12, 2)"
            ]
          },
          "metadata": {
            "tags": []
          },
          "execution_count": 14
        }
      ]
    },
    {
      "cell_type": "code",
      "metadata": {
        "id": "r-lxVOxOBC7R"
      },
      "source": [
        "from keras.layers import Dense,LSTM\n",
        "from keras.models import Sequential\n",
        "model=Sequential()\n",
        "model.add(LSTM(200,activation='relu',input_shape=(n_steps,x_train.shape[2])))\n",
        "model.add(Dense(1))\n",
        "model.compile(optimizer='adam',loss='mse')"
      ],
      "execution_count": null,
      "outputs": []
    },
    {
      "cell_type": "code",
      "metadata": {
        "colab": {
          "base_uri": "https://localhost:8080/"
        },
        "id": "ESebe79yBODB",
        "outputId": "1105be0a-a977-4df4-9c77-b8151c454b7d"
      },
      "source": [
        "history=model.fit(x_train,y_train,epochs=100,batch_size=30)"
      ],
      "execution_count": null,
      "outputs": [
        {
          "output_type": "stream",
          "text": [
            "Epoch 1/100\n",
            "42/42 [==============================] - 23s 25ms/step - loss: 0.3015\n",
            "Epoch 2/100\n",
            "42/42 [==============================] - 1s 24ms/step - loss: 0.0092\n",
            "Epoch 3/100\n",
            "42/42 [==============================] - 1s 24ms/step - loss: 0.0047\n",
            "Epoch 4/100\n",
            "42/42 [==============================] - 1s 23ms/step - loss: 0.0032\n",
            "Epoch 5/100\n",
            "42/42 [==============================] - 1s 24ms/step - loss: 0.0036\n",
            "Epoch 6/100\n",
            "42/42 [==============================] - 1s 23ms/step - loss: 0.0027\n",
            "Epoch 7/100\n",
            "42/42 [==============================] - 1s 23ms/step - loss: 0.0030\n",
            "Epoch 8/100\n",
            "42/42 [==============================] - 1s 23ms/step - loss: 0.0033\n",
            "Epoch 9/100\n",
            "42/42 [==============================] - 1s 23ms/step - loss: 0.0025\n",
            "Epoch 10/100\n",
            "42/42 [==============================] - 1s 23ms/step - loss: 0.0025\n",
            "Epoch 11/100\n",
            "42/42 [==============================] - 1s 23ms/step - loss: 0.0020\n",
            "Epoch 12/100\n",
            "42/42 [==============================] - 1s 23ms/step - loss: 0.0031\n",
            "Epoch 13/100\n",
            "42/42 [==============================] - 1s 22ms/step - loss: 0.0019\n",
            "Epoch 14/100\n",
            "42/42 [==============================] - 1s 23ms/step - loss: 0.0017\n",
            "Epoch 15/100\n",
            "42/42 [==============================] - 1s 23ms/step - loss: 0.0017\n",
            "Epoch 16/100\n",
            "42/42 [==============================] - 1s 22ms/step - loss: 0.0013\n",
            "Epoch 17/100\n",
            "42/42 [==============================] - 1s 24ms/step - loss: 0.0024\n",
            "Epoch 18/100\n",
            "42/42 [==============================] - 1s 23ms/step - loss: 0.0015\n",
            "Epoch 19/100\n",
            "42/42 [==============================] - 1s 23ms/step - loss: 0.0014\n",
            "Epoch 20/100\n",
            "42/42 [==============================] - 1s 23ms/step - loss: 0.0014\n",
            "Epoch 21/100\n",
            "42/42 [==============================] - 1s 23ms/step - loss: 0.0011\n",
            "Epoch 22/100\n",
            "42/42 [==============================] - 1s 23ms/step - loss: 0.0013\n",
            "Epoch 23/100\n",
            "42/42 [==============================] - 1s 23ms/step - loss: 0.0012\n",
            "Epoch 24/100\n",
            "42/42 [==============================] - 1s 23ms/step - loss: 0.0011\n",
            "Epoch 25/100\n",
            "42/42 [==============================] - 1s 24ms/step - loss: 0.0011\n",
            "Epoch 26/100\n",
            "42/42 [==============================] - 1s 23ms/step - loss: 0.0016\n",
            "Epoch 27/100\n",
            "42/42 [==============================] - 1s 26ms/step - loss: 0.0014\n",
            "Epoch 28/100\n",
            "42/42 [==============================] - 1s 24ms/step - loss: 0.0010\n",
            "Epoch 29/100\n",
            "42/42 [==============================] - 1s 24ms/step - loss: 5.8968e-04\n",
            "Epoch 30/100\n",
            "42/42 [==============================] - 1s 23ms/step - loss: 8.8662e-04\n",
            "Epoch 31/100\n",
            "42/42 [==============================] - 1s 22ms/step - loss: 0.0012\n",
            "Epoch 32/100\n",
            "42/42 [==============================] - 1s 22ms/step - loss: 8.9777e-04\n",
            "Epoch 33/100\n",
            "42/42 [==============================] - 1s 23ms/step - loss: 6.3004e-04\n",
            "Epoch 34/100\n",
            "42/42 [==============================] - 1s 22ms/step - loss: 6.3244e-04\n",
            "Epoch 35/100\n",
            "42/42 [==============================] - 1s 22ms/step - loss: 9.7299e-04\n",
            "Epoch 36/100\n",
            "42/42 [==============================] - 1s 23ms/step - loss: 7.2522e-04\n",
            "Epoch 37/100\n",
            "42/42 [==============================] - 1s 23ms/step - loss: 5.4147e-04\n",
            "Epoch 38/100\n",
            "42/42 [==============================] - 1s 23ms/step - loss: 6.8043e-04\n",
            "Epoch 39/100\n",
            "42/42 [==============================] - 1s 23ms/step - loss: 5.5077e-04\n",
            "Epoch 40/100\n",
            "42/42 [==============================] - 1s 23ms/step - loss: 8.0609e-04\n",
            "Epoch 41/100\n",
            "42/42 [==============================] - 1s 23ms/step - loss: 4.6386e-04\n",
            "Epoch 42/100\n",
            "42/42 [==============================] - 1s 23ms/step - loss: 6.5171e-04\n",
            "Epoch 43/100\n",
            "42/42 [==============================] - 1s 23ms/step - loss: 4.2792e-04\n",
            "Epoch 44/100\n",
            "42/42 [==============================] - 1s 22ms/step - loss: 5.4714e-04\n",
            "Epoch 45/100\n",
            "42/42 [==============================] - 1s 23ms/step - loss: 3.9908e-04\n",
            "Epoch 46/100\n",
            "42/42 [==============================] - 1s 22ms/step - loss: 4.8935e-04\n",
            "Epoch 47/100\n",
            "42/42 [==============================] - 1s 22ms/step - loss: 6.0439e-04\n",
            "Epoch 48/100\n",
            "42/42 [==============================] - 1s 23ms/step - loss: 5.0198e-04\n",
            "Epoch 49/100\n",
            "42/42 [==============================] - 1s 23ms/step - loss: 4.4248e-04\n",
            "Epoch 50/100\n",
            "42/42 [==============================] - 1s 22ms/step - loss: 3.7776e-04\n",
            "Epoch 51/100\n",
            "42/42 [==============================] - 1s 23ms/step - loss: 2.5397e-04\n",
            "Epoch 52/100\n",
            "42/42 [==============================] - 1s 22ms/step - loss: 3.4943e-04\n",
            "Epoch 53/100\n",
            "42/42 [==============================] - 1s 23ms/step - loss: 2.7169e-04\n",
            "Epoch 54/100\n",
            "42/42 [==============================] - 1s 23ms/step - loss: 4.3806e-04\n",
            "Epoch 55/100\n",
            "42/42 [==============================] - 1s 22ms/step - loss: 1.9849e-04\n",
            "Epoch 56/100\n",
            "42/42 [==============================] - 1s 23ms/step - loss: 3.4846e-04\n",
            "Epoch 57/100\n",
            "42/42 [==============================] - 1s 23ms/step - loss: 2.4329e-04\n",
            "Epoch 58/100\n",
            "42/42 [==============================] - 1s 23ms/step - loss: 1.8990e-04\n",
            "Epoch 59/100\n",
            "42/42 [==============================] - 1s 23ms/step - loss: 2.3762e-04\n",
            "Epoch 60/100\n",
            "42/42 [==============================] - 1s 24ms/step - loss: 2.4228e-04\n",
            "Epoch 61/100\n",
            "42/42 [==============================] - 1s 24ms/step - loss: 1.6050e-04\n",
            "Epoch 62/100\n",
            "42/42 [==============================] - 1s 24ms/step - loss: 2.0335e-04\n",
            "Epoch 63/100\n",
            "42/42 [==============================] - 1s 23ms/step - loss: 1.7604e-04\n",
            "Epoch 64/100\n",
            "42/42 [==============================] - 1s 23ms/step - loss: 1.3665e-04\n",
            "Epoch 65/100\n",
            "42/42 [==============================] - 1s 23ms/step - loss: 1.1820e-04\n",
            "Epoch 66/100\n",
            "42/42 [==============================] - 1s 24ms/step - loss: 1.4697e-04\n",
            "Epoch 67/100\n",
            "42/42 [==============================] - 1s 24ms/step - loss: 1.7221e-04\n",
            "Epoch 68/100\n",
            "42/42 [==============================] - 1s 23ms/step - loss: 1.6033e-04\n",
            "Epoch 69/100\n",
            "42/42 [==============================] - 1s 24ms/step - loss: 1.1699e-04\n",
            "Epoch 70/100\n",
            "42/42 [==============================] - 1s 24ms/step - loss: 1.2381e-04\n",
            "Epoch 71/100\n",
            "42/42 [==============================] - 1s 24ms/step - loss: 1.4857e-04\n",
            "Epoch 72/100\n",
            "42/42 [==============================] - 1s 23ms/step - loss: 1.3912e-04\n",
            "Epoch 73/100\n",
            "42/42 [==============================] - 1s 24ms/step - loss: 9.9706e-05\n",
            "Epoch 74/100\n",
            "42/42 [==============================] - 1s 23ms/step - loss: 1.5260e-04\n",
            "Epoch 75/100\n",
            "42/42 [==============================] - 1s 23ms/step - loss: 7.5815e-05\n",
            "Epoch 76/100\n",
            "42/42 [==============================] - 1s 23ms/step - loss: 1.3739e-04\n",
            "Epoch 77/100\n",
            "42/42 [==============================] - 1s 23ms/step - loss: 8.4392e-05\n",
            "Epoch 78/100\n",
            "42/42 [==============================] - 1s 23ms/step - loss: 1.2580e-04\n",
            "Epoch 79/100\n",
            "42/42 [==============================] - 1s 24ms/step - loss: 7.2441e-05\n",
            "Epoch 80/100\n",
            "42/42 [==============================] - 1s 24ms/step - loss: 1.2590e-04\n",
            "Epoch 81/100\n",
            "42/42 [==============================] - 1s 23ms/step - loss: 6.3729e-05\n",
            "Epoch 82/100\n",
            "42/42 [==============================] - 1s 24ms/step - loss: 9.1685e-05\n",
            "Epoch 83/100\n",
            "42/42 [==============================] - 1s 24ms/step - loss: 6.3688e-05\n",
            "Epoch 84/100\n",
            "42/42 [==============================] - 1s 23ms/step - loss: 7.1109e-05\n",
            "Epoch 85/100\n",
            "42/42 [==============================] - 1s 23ms/step - loss: 6.8333e-05\n",
            "Epoch 86/100\n",
            "42/42 [==============================] - 1s 23ms/step - loss: 4.9807e-05\n",
            "Epoch 87/100\n",
            "42/42 [==============================] - 1s 24ms/step - loss: 5.6737e-05\n",
            "Epoch 88/100\n",
            "42/42 [==============================] - 1s 23ms/step - loss: 8.1620e-05\n",
            "Epoch 89/100\n",
            "42/42 [==============================] - 1s 24ms/step - loss: 6.3412e-05\n",
            "Epoch 90/100\n",
            "42/42 [==============================] - 1s 24ms/step - loss: 4.7833e-05\n",
            "Epoch 91/100\n",
            "42/42 [==============================] - 1s 22ms/step - loss: 9.1846e-05\n",
            "Epoch 92/100\n",
            "42/42 [==============================] - 1s 23ms/step - loss: 5.7058e-05\n",
            "Epoch 93/100\n",
            "42/42 [==============================] - 1s 23ms/step - loss: 4.8677e-05\n",
            "Epoch 94/100\n",
            "42/42 [==============================] - 1s 24ms/step - loss: 9.8463e-05\n",
            "Epoch 95/100\n",
            "42/42 [==============================] - 1s 24ms/step - loss: 6.9908e-05\n",
            "Epoch 96/100\n",
            "42/42 [==============================] - 1s 23ms/step - loss: 7.3139e-05\n",
            "Epoch 97/100\n",
            "42/42 [==============================] - 1s 23ms/step - loss: 8.9433e-05\n",
            "Epoch 98/100\n",
            "42/42 [==============================] - 1s 24ms/step - loss: 4.2653e-05\n",
            "Epoch 99/100\n",
            "42/42 [==============================] - 1s 23ms/step - loss: 7.9902e-05\n",
            "Epoch 100/100\n",
            "42/42 [==============================] - 1s 23ms/step - loss: 3.5239e-05\n"
          ],
          "name": "stdout"
        }
      ]
    },
    {
      "cell_type": "code",
      "metadata": {
        "colab": {
          "base_uri": "https://localhost:8080/",
          "height": 283
        },
        "id": "8HYQQJa7BbW9",
        "outputId": "e9cd0468-737d-4a6f-d0ce-2d3a48dde1c6"
      },
      "source": [
        "plt.plot(history.history[\"loss\"])"
      ],
      "execution_count": null,
      "outputs": [
        {
          "output_type": "execute_result",
          "data": {
            "text/plain": [
              "[<matplotlib.lines.Line2D at 0x7fa699f31810>]"
            ]
          },
          "metadata": {
            "tags": []
          },
          "execution_count": 19
        },
        {
          "output_type": "display_data",
          "data": {
            "image/png": "[encoded data removed]",
            "text/plain": [
              "<Figure size 432x288 with 1 Axes>"
            ]
          },
          "metadata": {
            "tags": [],
            "needs_background": "light"
          }
        }
      ]
    },
    {
      "cell_type": "code",
      "metadata": {
        "id": "pFV9JSY0CgtS"
      },
      "source": [
        "test=pd.read_csv(\"/content/sample_data/Google_Stock_Price_Test.csv\")"
      ],
      "execution_count": null,
      "outputs": []
    },
    {
      "cell_type": "code",
      "metadata": {
        "colab": {
          "base_uri": "https://localhost:8080/"
        },
        "id": "feJrU_8XCtJt",
        "outputId": "4709473a-3867-44c1-a293-71807c67e80b"
      },
      "source": [
        "xtest=test[[\"Open\",\"Close\"]]\n",
        "xtest.info()"
      ],
      "execution_count": null,
      "outputs": [
        {
          "output_type": "stream",
          "text": [
            "<class 'pandas.core.frame.DataFrame'>\n",
            "RangeIndex: 20 entries, 0 to 19\n",
            "Data columns (total 2 columns):\n",
            " #   Column  Non-Null Count  Dtype  \n",
            "---  ------  --------------  -----  \n",
            " 0   Open    20 non-null     float64\n",
            " 1   Close   20 non-null     float64\n",
            "dtypes: float64(2)\n",
            "memory usage: 448.0 bytes\n"
          ],
          "name": "stdout"
        }
      ]
    },
    {
      "cell_type": "code",
      "metadata": {
        "id": "NpS5RxqEC12p"
      },
      "source": [
        "sc_test=ms.fit_transform(xtest)"
      ],
      "execution_count": null,
      "outputs": []
    },
    {
      "cell_type": "code",
      "metadata": {
        "id": "WHUHVbX_C9cg"
      },
      "source": [
        "test_out=sc_test[:,0]+sc_test[:,1]"
      ],
      "execution_count": null,
      "outputs": []
    },
    {
      "cell_type": "code",
      "metadata": {
        "colab": {
          "base_uri": "https://localhost:8080/"
        },
        "id": "WwjkoquwDGDT",
        "outputId": "0d0c8827-d256-49bb-89b2-86776e33d04b"
      },
      "source": [
        "test_data=np.hstack((sc_test[:,0].reshape(-1,1),sc_test[:,1].reshape(-1,1),test_out.reshape(-1,1)))\n"
      ],
      "execution_count": null,
      "outputs": [
        {
          "output_type": "execute_result",
          "data": {
            "text/plain": [
              "array([[0.        , 0.        , 0.        ],\n",
              "       [0.16186441, 0.01534424, 0.17720864],\n",
              "       [0.12322034, 0.1590955 , 0.28231584],\n",
              "       [0.27881356, 0.40399758, 0.68281114],\n",
              "       [0.46762712, 0.41409247, 0.88171959],\n",
              "       [0.49237288, 0.37653947, 0.86891235],\n",
              "       [0.44389831, 0.4395316 , 0.8834299 ],\n",
              "       [0.48016949, 0.40823743, 0.88840692],\n",
              "       [0.4859322 , 0.4389259 , 0.92485811],\n",
              "       [0.47915254, 0.37290531, 0.85205785],\n",
              "       [0.45762712, 0.40238239, 0.86000951],\n",
              "       [0.4459322 , 0.32364224, 0.76957444],\n",
              "       [0.47627119, 0.38118312, 0.85745431],\n",
              "       [0.4820339 , 0.66969513, 1.15172903],\n",
              "       [0.73711864, 0.76176055, 1.49887919],\n",
              "       [0.86118644, 1.        , 1.86118644],\n",
              "       [1.        , 0.92893196, 1.92893196],\n",
              "       [0.94745763, 0.75045427, 1.6979119 ],\n",
              "       [0.60762712, 0.3266707 , 0.93429782],\n",
              "       [0.3059322 , 0.2150212 , 0.5209534 ]])"
            ]
          },
          "metadata": {
            "tags": []
          },
          "execution_count": 26
        }
      ]
    },
    {
      "cell_type": "code",
      "metadata": {
        "id": "ts7Wzz46DW6k"
      },
      "source": [
        "n_steps=12\n",
        "x_test,y_test=timeseriesTransform(n_steps,data)"
      ],
      "execution_count": null,
      "outputs": []
    },
    {
      "cell_type": "code",
      "metadata": {
        "id": "lhs2LgeKD28_"
      },
      "source": [
        "ypred=model.predict(x_test)"
      ],
      "execution_count": null,
      "outputs": []
    },
    {
      "cell_type": "code",
      "metadata": {
        "colab": {
          "base_uri": "https://localhost:8080/"
        },
        "id": "gj4-9WxTFf1P",
        "outputId": "d09d1231-24b1-4388-8620-e6f742c43b1c"
      },
      "source": [
        ""
      ],
      "execution_count": null,
      "outputs": [
        {
          "output_type": "execute_result",
          "data": {
            "text/plain": [
              "array([[0.27680405],\n",
              "       [0.15640461],\n",
              "       [0.15157131],\n",
              "       ...,\n",
              "       [1.36220973],\n",
              "       [1.33980433],\n",
              "       [1.32360748]])"
            ]
          },
          "metadata": {
            "tags": []
          },
          "execution_count": 31
        }
      ]
    },
    {
      "cell_type": "code",
      "metadata": {
        "colab": {
          "base_uri": "https://localhost:8080/"
        },
        "id": "dZDpIDpOFOUI",
        "outputId": "9430a4f9-9aba-4654-88a9-491a5645f4f4"
      },
      "source": [
        "#For converting the scaled data to original Data we have to stack the two values\n",
        "Final=np.hstack((ypred,y_test.reshape(-1,1)))\n",
        "Final"
      ],
      "execution_count": null,
      "outputs": [
        {
          "output_type": "execute_result",
          "data": {
            "text/plain": [
              "array([[0.2690849 , 0.27680405],\n",
              "       [0.19366288, 0.15640461],\n",
              "       [0.15896943, 0.15157131],\n",
              "       ...,\n",
              "       [1.35703874, 1.36220973],\n",
              "       [1.33911788, 1.33980433],\n",
              "       [1.31911695, 1.32360748]])"
            ]
          },
          "metadata": {
            "tags": []
          },
          "execution_count": 32
        }
      ]
    },
    {
      "cell_type": "code",
      "metadata": {
        "colab": {
          "base_uri": "https://localhost:8080/"
        },
        "id": "eN0_srFgFmWs",
        "outputId": "604ee20f-bc0d-43ba-e6ad-e7a34fef392a"
      },
      "source": [
        "output=ms.inverse_transform(Final)  # Getting Original Values\n",
        "output"
      ],
      "execution_count": null,
      "outputs": [
        {
          "output_type": "execute_result",
          "data": {
            "text/plain": [
              "array([[794.68600914, 799.85010436],\n",
              "       [790.23611003, 793.88672009],\n",
              "       [788.18919649, 793.64732713],\n",
              "       ...,\n",
              "       [858.87528544, 853.6102481 ],\n",
              "       [857.81795519, 852.5005084 ],\n",
              "       [856.63790005, 851.69827857]])"
            ]
          },
          "metadata": {
            "tags": []
          },
          "execution_count": 33
        }
      ]
    },
    {
      "cell_type": "code",
      "metadata": {
        "colab": {
          "base_uri": "https://localhost:8080/",
          "height": 283
        },
        "id": "qBQHsr1UF1bM",
        "outputId": "14b2b9ab-76a9-43d9-a654-800002c40c6b"
      },
      "source": [
        "actual=output[:,1]\n",
        "predicted=output[:,0]\n",
        "plt.plot(actual)\n",
        "plt.plot(predicted)"
      ],
      "execution_count": null,
      "outputs": [
        {
          "output_type": "execute_result",
          "data": {
            "text/plain": [
              "[<matplotlib.lines.Line2D at 0x7fa69aea0650>]"
            ]
          },
          "metadata": {
            "tags": []
          },
          "execution_count": 34
        },
        {
          "output_type": "display_data",
          "data": {
            "image/png": "[encoded data removed]",
            "text/plain": [
              "<Figure size 432x288 with 1 Axes>"
            ]
          },
          "metadata": {
            "tags": [],
            "needs_background": "light"
          }
        }
      ]
    },
    {
      "cell_type": "code",
      "metadata": {
        "id": "2uovRc-zGjmF",
        "colab": {
          "base_uri": "https://localhost:8080/"
        },
        "outputId": "8892fde8-2cc7-4460-c352-0540918673e1"
      },
      "source": [
        "from sklearn.metrics import mean_squared_error\n",
        "mse=mean_squared_error(actual,predicted)\n",
        "print(\"MSE is \",mse)\n",
        "rmse=np.sqrt(mse)\n",
        "print(\"RMSE is \",rmse)"
      ],
      "execution_count": 36,
      "outputs": [
        {
          "output_type": "stream",
          "text": [
            "MSE is  12.732039692953276\n",
            "RMSE is  3.568198381950375\n"
          ],
          "name": "stdout"
        }
      ]
    }
  ]
}