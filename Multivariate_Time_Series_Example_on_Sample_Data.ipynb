{
  "nbformat": 4,
  "nbformat_minor": 0,
  "metadata": {
    "colab": {
      "name": "Multivariate Time Series Example on Sample Data.ipynb",
      "provenance": []
    },
    "kernelspec": {
      "name": "python3",
      "display_name": "Python 3"
    },
    "language_info": {
      "name": "python"
    }
  },
  "cells": [
    {
      "cell_type": "code",
      "metadata": {
        "id": "eUFgb4BevSHl"
      },
      "source": [
        "import pandas as pd\n",
        "import numpy as np\n",
        "import matplotlib.pyplot as plt\n",
        "import seaborn as sns"
      ],
      "execution_count": 2,
      "outputs": []
    },
    {
      "cell_type": "code",
      "metadata": {
        "id": "qTyRqUjpwqsJ"
      },
      "source": [
        "value_1=np.array([10,20,30,40,50,60,70,80,90])\n",
        "value_2=np.array([15,25,35,45,55,65,75,85,95])"
      ],
      "execution_count": 3,
      "outputs": []
    },
    {
      "cell_type": "code",
      "metadata": {
        "colab": {
          "base_uri": "https://localhost:8080/"
        },
        "id": "PW07EnmhxKVz",
        "outputId": "2ab95ecc-0a39-41dc-90c4-91ec07fd3e5b"
      },
      "source": [
        "#making data supervised series\n",
        "output =value_1+value_2\n",
        "output"
      ],
      "execution_count": 8,
      "outputs": [
        {
          "output_type": "execute_result",
          "data": {
            "text/plain": [
              "array([[ 25],\n",
              "       [ 45],\n",
              "       [ 65],\n",
              "       [ 85],\n",
              "       [105],\n",
              "       [125],\n",
              "       [145],\n",
              "       [165],\n",
              "       [185]])"
            ]
          },
          "metadata": {
            "tags": []
          },
          "execution_count": 8
        }
      ]
    },
    {
      "cell_type": "code",
      "metadata": {
        "id": "gS3R0Ufkyj-f"
      },
      "source": [
        "value_1=value_1.reshape(len(value_1),1)\n",
        "value_2=value_2.reshape(len(value_2),1)\n",
        "output=output.reshape(len(output),1)"
      ],
      "execution_count": 9,
      "outputs": []
    },
    {
      "cell_type": "code",
      "metadata": {
        "colab": {
          "base_uri": "https://localhost:8080/"
        },
        "id": "Tv7UbvnSzGrS",
        "outputId": "458d95b7-0181-4bcf-c992-5b490a279a99"
      },
      "source": [
        "data=np.hstack((value_1,value_2,output))\n",
        "data"
      ],
      "execution_count": 10,
      "outputs": [
        {
          "output_type": "execute_result",
          "data": {
            "text/plain": [
              "array([[ 10,  15,  25],\n",
              "       [ 20,  25,  45],\n",
              "       [ 30,  35,  65],\n",
              "       [ 40,  45,  85],\n",
              "       [ 50,  55, 105],\n",
              "       [ 60,  65, 125],\n",
              "       [ 70,  75, 145],\n",
              "       [ 80,  85, 165],\n",
              "       [ 90,  95, 185]])"
            ]
          },
          "metadata": {
            "tags": []
          },
          "execution_count": 10
        }
      ]
    },
    {
      "cell_type": "code",
      "metadata": {
        "id": "6v49SKWizhgy"
      },
      "source": [
        "#x\n",
        "#y\n",
        "def timeseriesTransform(n_steps,data):\n",
        "  x=[]\n",
        "  y=[]\n",
        "  for i in range(n_steps,len(data)+1):\n",
        "    x.append(data[i-n_steps:i,:-1])\n",
        "    y.append(data[i-1,-1])\n",
        "  return np.array(x),np.array(y)"
      ],
      "execution_count": 11,
      "outputs": []
    },
    {
      "cell_type": "code",
      "metadata": {
        "id": "m35Jbibo0TGm"
      },
      "source": [
        "n_steps=3\n",
        "x,y=timeseriesTransform(n_steps,data)"
      ],
      "execution_count": 12,
      "outputs": []
    },
    {
      "cell_type": "code",
      "metadata": {
        "colab": {
          "base_uri": "https://localhost:8080/"
        },
        "id": "5bXQ08eK0ZZM",
        "outputId": "b17db1de-4031-480a-d711-df031e1e7c5e"
      },
      "source": [
        "x"
      ],
      "execution_count": 13,
      "outputs": [
        {
          "output_type": "execute_result",
          "data": {
            "text/plain": [
              "array([[[10, 15],\n",
              "        [20, 25],\n",
              "        [30, 35]],\n",
              "\n",
              "       [[20, 25],\n",
              "        [30, 35],\n",
              "        [40, 45]],\n",
              "\n",
              "       [[30, 35],\n",
              "        [40, 45],\n",
              "        [50, 55]],\n",
              "\n",
              "       [[40, 45],\n",
              "        [50, 55],\n",
              "        [60, 65]],\n",
              "\n",
              "       [[50, 55],\n",
              "        [60, 65],\n",
              "        [70, 75]],\n",
              "\n",
              "       [[60, 65],\n",
              "        [70, 75],\n",
              "        [80, 85]],\n",
              "\n",
              "       [[70, 75],\n",
              "        [80, 85],\n",
              "        [90, 95]]])"
            ]
          },
          "metadata": {
            "tags": []
          },
          "execution_count": 13
        }
      ]
    },
    {
      "cell_type": "code",
      "metadata": {
        "colab": {
          "base_uri": "https://localhost:8080/"
        },
        "id": "uRKnhnIO0aXr",
        "outputId": "498b0fd9-7cf0-4732-cd71-b3a0ae48d6c7"
      },
      "source": [
        "y"
      ],
      "execution_count": 14,
      "outputs": [
        {
          "output_type": "execute_result",
          "data": {
            "text/plain": [
              "array([ 65,  85, 105, 125, 145, 165, 185])"
            ]
          },
          "metadata": {
            "tags": []
          },
          "execution_count": 14
        }
      ]
    },
    {
      "cell_type": "code",
      "metadata": {
        "colab": {
          "base_uri": "https://localhost:8080/"
        },
        "id": "-_C2oq7G0dU7",
        "outputId": "bb075ca0-5f90-499c-b156-502bc204c472"
      },
      "source": [
        "x.shape"
      ],
      "execution_count": 15,
      "outputs": [
        {
          "output_type": "execute_result",
          "data": {
            "text/plain": [
              "(7, 3, 2)"
            ]
          },
          "metadata": {
            "tags": []
          },
          "execution_count": 15
        }
      ]
    },
    {
      "cell_type": "code",
      "metadata": {
        "colab": {
          "base_uri": "https://localhost:8080/"
        },
        "id": "2wsvd0cz2yq1",
        "outputId": "980a3c25-0c50-4434-e443-7fd3d742ad5a"
      },
      "source": [
        "y.shape"
      ],
      "execution_count": 16,
      "outputs": [
        {
          "output_type": "execute_result",
          "data": {
            "text/plain": [
              "(7,)"
            ]
          },
          "metadata": {
            "tags": []
          },
          "execution_count": 16
        }
      ]
    },
    {
      "cell_type": "code",
      "metadata": {
        "id": "Dg12c6pw22YO"
      },
      "source": [
        "from keras.layers import Dense,LSTM\n",
        "from keras.models import Sequential\n",
        "model=Sequential()\n",
        "model.add(LSTM(50,activation='relu',input_shape=(n_steps,x.shape[2])))\n",
        "model.add(Dense(1))\n",
        "model.compile(optimizer='adam',loss='mse')"
      ],
      "execution_count": 18,
      "outputs": []
    },
    {
      "cell_type": "code",
      "metadata": {
        "colab": {
          "base_uri": "https://localhost:8080/"
        },
        "id": "p08Y0-XL6Cj4",
        "outputId": "1f2437b6-15e7-4af5-bd58-4be5e0e78881"
      },
      "source": [
        "history=model.fit(x,y,epochs=100)"
      ],
      "execution_count": 19,
      "outputs": [
        {
          "output_type": "stream",
          "text": [
            "Epoch 1/100\n",
            "1/1 [==============================] - 23s 23s/step - loss: 16229.5107\n",
            "Epoch 2/100\n",
            "1/1 [==============================] - 0s 6ms/step - loss: 16100.7998\n",
            "Epoch 3/100\n",
            "1/1 [==============================] - 0s 5ms/step - loss: 15974.1982\n",
            "Epoch 4/100\n",
            "1/1 [==============================] - 0s 9ms/step - loss: 15851.5303\n",
            "Epoch 5/100\n",
            "1/1 [==============================] - 0s 14ms/step - loss: 15734.0391\n",
            "Epoch 6/100\n",
            "1/1 [==============================] - 0s 8ms/step - loss: 15622.0449\n",
            "Epoch 7/100\n",
            "1/1 [==============================] - 0s 8ms/step - loss: 15515.1377\n",
            "Epoch 8/100\n",
            "1/1 [==============================] - 0s 8ms/step - loss: 15412.4219\n",
            "Epoch 9/100\n",
            "1/1 [==============================] - 0s 9ms/step - loss: 15312.9170\n",
            "Epoch 10/100\n",
            "1/1 [==============================] - 0s 8ms/step - loss: 15215.5723\n",
            "Epoch 11/100\n",
            "1/1 [==============================] - 0s 8ms/step - loss: 15119.4688\n",
            "Epoch 12/100\n",
            "1/1 [==============================] - 0s 14ms/step - loss: 15023.6514\n",
            "Epoch 13/100\n",
            "1/1 [==============================] - 0s 9ms/step - loss: 14926.7568\n",
            "Epoch 14/100\n",
            "1/1 [==============================] - 0s 8ms/step - loss: 14827.4512\n",
            "Epoch 15/100\n",
            "1/1 [==============================] - 0s 20ms/step - loss: 14724.3359\n",
            "Epoch 16/100\n",
            "1/1 [==============================] - 0s 8ms/step - loss: 14615.9580\n",
            "Epoch 17/100\n",
            "1/1 [==============================] - 0s 10ms/step - loss: 14500.6094\n",
            "Epoch 18/100\n",
            "1/1 [==============================] - 0s 8ms/step - loss: 14376.4736\n",
            "Epoch 19/100\n",
            "1/1 [==============================] - 0s 7ms/step - loss: 14241.4775\n",
            "Epoch 20/100\n",
            "1/1 [==============================] - 0s 8ms/step - loss: 14093.1084\n",
            "Epoch 21/100\n",
            "1/1 [==============================] - 0s 6ms/step - loss: 13928.1875\n",
            "Epoch 22/100\n",
            "1/1 [==============================] - 0s 7ms/step - loss: 13742.4229\n",
            "Epoch 23/100\n",
            "1/1 [==============================] - 0s 7ms/step - loss: 13529.9346\n",
            "Epoch 24/100\n",
            "1/1 [==============================] - 0s 9ms/step - loss: 13283.0400\n",
            "Epoch 25/100\n",
            "1/1 [==============================] - 0s 7ms/step - loss: 12992.9453\n",
            "Epoch 26/100\n",
            "1/1 [==============================] - 0s 5ms/step - loss: 12651.7939\n",
            "Epoch 27/100\n",
            "1/1 [==============================] - 0s 9ms/step - loss: 12256.0029\n",
            "Epoch 28/100\n",
            "1/1 [==============================] - 0s 13ms/step - loss: 11808.7285\n",
            "Epoch 29/100\n",
            "1/1 [==============================] - 0s 8ms/step - loss: 11317.8135\n",
            "Epoch 30/100\n",
            "1/1 [==============================] - 0s 9ms/step - loss: 10788.6689\n",
            "Epoch 31/100\n",
            "1/1 [==============================] - 0s 8ms/step - loss: 10218.1553\n",
            "Epoch 32/100\n",
            "1/1 [==============================] - 0s 8ms/step - loss: 9597.0859\n",
            "Epoch 33/100\n",
            "1/1 [==============================] - 0s 6ms/step - loss: 8919.7959\n",
            "Epoch 34/100\n",
            "1/1 [==============================] - 0s 8ms/step - loss: 8186.0552\n",
            "Epoch 35/100\n",
            "1/1 [==============================] - 0s 8ms/step - loss: 7392.8057\n",
            "Epoch 36/100\n",
            "1/1 [==============================] - 0s 7ms/step - loss: 6547.1606\n",
            "Epoch 37/100\n",
            "1/1 [==============================] - 0s 12ms/step - loss: 5693.0752\n",
            "Epoch 38/100\n",
            "1/1 [==============================] - 0s 10ms/step - loss: 4884.2979\n",
            "Epoch 39/100\n",
            "1/1 [==============================] - 0s 7ms/step - loss: 4139.6646\n",
            "Epoch 40/100\n",
            "1/1 [==============================] - 0s 9ms/step - loss: 3445.7263\n",
            "Epoch 41/100\n",
            "1/1 [==============================] - 0s 8ms/step - loss: 2787.1511\n",
            "Epoch 42/100\n",
            "1/1 [==============================] - 0s 7ms/step - loss: 2170.2656\n",
            "Epoch 43/100\n",
            "1/1 [==============================] - 0s 6ms/step - loss: 1617.9768\n",
            "Epoch 44/100\n",
            "1/1 [==============================] - 0s 9ms/step - loss: 1142.8093\n",
            "Epoch 45/100\n",
            "1/1 [==============================] - 0s 22ms/step - loss: 742.9998\n",
            "Epoch 46/100\n",
            "1/1 [==============================] - 0s 8ms/step - loss: 423.5534\n",
            "Epoch 47/100\n",
            "1/1 [==============================] - 0s 6ms/step - loss: 225.6802\n",
            "Epoch 48/100\n",
            "1/1 [==============================] - 0s 10ms/step - loss: 194.4383\n",
            "Epoch 49/100\n",
            "1/1 [==============================] - 0s 14ms/step - loss: 282.5787\n",
            "Epoch 50/100\n",
            "1/1 [==============================] - 0s 9ms/step - loss: 415.3352\n",
            "Epoch 51/100\n",
            "1/1 [==============================] - 0s 13ms/step - loss: 546.0231\n",
            "Epoch 52/100\n",
            "1/1 [==============================] - 0s 7ms/step - loss: 645.4023\n",
            "Epoch 53/100\n",
            "1/1 [==============================] - 0s 6ms/step - loss: 698.3549\n",
            "Epoch 54/100\n",
            "1/1 [==============================] - 0s 7ms/step - loss: 701.3673\n",
            "Epoch 55/100\n",
            "1/1 [==============================] - 0s 9ms/step - loss: 659.1949\n",
            "Epoch 56/100\n",
            "1/1 [==============================] - 0s 7ms/step - loss: 581.5920\n",
            "Epoch 57/100\n",
            "1/1 [==============================] - 0s 7ms/step - loss: 480.5153\n",
            "Epoch 58/100\n",
            "1/1 [==============================] - 0s 10ms/step - loss: 368.6543\n",
            "Epoch 59/100\n",
            "1/1 [==============================] - 0s 11ms/step - loss: 260.7785\n",
            "Epoch 60/100\n",
            "1/1 [==============================] - 0s 7ms/step - loss: 175.8756\n",
            "Epoch 61/100\n",
            "1/1 [==============================] - 0s 7ms/step - loss: 126.9207\n",
            "Epoch 62/100\n",
            "1/1 [==============================] - 0s 9ms/step - loss: 106.4010\n",
            "Epoch 63/100\n",
            "1/1 [==============================] - 0s 7ms/step - loss: 100.2289\n",
            "Epoch 64/100\n",
            "1/1 [==============================] - 0s 9ms/step - loss: 100.7223\n",
            "Epoch 65/100\n",
            "1/1 [==============================] - 0s 7ms/step - loss: 104.2691\n",
            "Epoch 66/100\n",
            "1/1 [==============================] - 0s 9ms/step - loss: 108.4913\n",
            "Epoch 67/100\n",
            "1/1 [==============================] - 0s 8ms/step - loss: 111.5231\n",
            "Epoch 68/100\n",
            "1/1 [==============================] - 0s 7ms/step - loss: 111.7923\n",
            "Epoch 69/100\n",
            "1/1 [==============================] - 0s 7ms/step - loss: 108.1543\n",
            "Epoch 70/100\n",
            "1/1 [==============================] - 0s 9ms/step - loss: 100.6644\n",
            "Epoch 71/100\n",
            "1/1 [==============================] - 0s 6ms/step - loss: 92.0855\n",
            "Epoch 72/100\n",
            "1/1 [==============================] - 0s 8ms/step - loss: 86.2482\n",
            "Epoch 73/100\n",
            "1/1 [==============================] - 0s 7ms/step - loss: 83.0139\n",
            "Epoch 74/100\n",
            "1/1 [==============================] - 0s 9ms/step - loss: 81.0775\n",
            "Epoch 75/100\n",
            "1/1 [==============================] - 0s 6ms/step - loss: 79.6434\n",
            "Epoch 76/100\n",
            "1/1 [==============================] - 0s 7ms/step - loss: 77.9156\n",
            "Epoch 77/100\n",
            "1/1 [==============================] - 0s 9ms/step - loss: 75.3709\n",
            "Epoch 78/100\n",
            "1/1 [==============================] - 0s 10ms/step - loss: 71.8967\n",
            "Epoch 79/100\n",
            "1/1 [==============================] - 0s 13ms/step - loss: 67.7061\n",
            "Epoch 80/100\n",
            "1/1 [==============================] - 0s 7ms/step - loss: 63.2273\n",
            "Epoch 81/100\n",
            "1/1 [==============================] - 0s 7ms/step - loss: 58.8946\n",
            "Epoch 82/100\n",
            "1/1 [==============================] - 0s 9ms/step - loss: 55.0459\n",
            "Epoch 83/100\n",
            "1/1 [==============================] - 0s 16ms/step - loss: 51.7806\n",
            "Epoch 84/100\n",
            "1/1 [==============================] - 0s 10ms/step - loss: 48.9399\n",
            "Epoch 85/100\n",
            "1/1 [==============================] - 0s 9ms/step - loss: 46.2437\n",
            "Epoch 86/100\n",
            "1/1 [==============================] - 0s 9ms/step - loss: 43.4605\n",
            "Epoch 87/100\n",
            "1/1 [==============================] - 0s 7ms/step - loss: 40.5380\n",
            "Epoch 88/100\n",
            "1/1 [==============================] - 0s 6ms/step - loss: 37.5341\n",
            "Epoch 89/100\n",
            "1/1 [==============================] - 0s 7ms/step - loss: 34.4744\n",
            "Epoch 90/100\n",
            "1/1 [==============================] - 0s 7ms/step - loss: 31.5761\n",
            "Epoch 91/100\n",
            "1/1 [==============================] - 0s 7ms/step - loss: 29.0205\n",
            "Epoch 92/100\n",
            "1/1 [==============================] - 0s 7ms/step - loss: 26.7479\n",
            "Epoch 93/100\n",
            "1/1 [==============================] - 0s 9ms/step - loss: 24.4437\n",
            "Epoch 94/100\n",
            "1/1 [==============================] - 0s 10ms/step - loss: 21.9682\n",
            "Epoch 95/100\n",
            "1/1 [==============================] - 0s 12ms/step - loss: 19.5655\n",
            "Epoch 96/100\n",
            "1/1 [==============================] - 0s 13ms/step - loss: 17.4595\n",
            "Epoch 97/100\n",
            "1/1 [==============================] - 0s 7ms/step - loss: 15.6578\n",
            "Epoch 98/100\n",
            "1/1 [==============================] - 0s 13ms/step - loss: 14.0647\n",
            "Epoch 99/100\n",
            "1/1 [==============================] - 0s 7ms/step - loss: 12.6480\n",
            "Epoch 100/100\n",
            "1/1 [==============================] - 0s 8ms/step - loss: 11.4749\n"
          ],
          "name": "stdout"
        }
      ]
    },
    {
      "cell_type": "code",
      "metadata": {
        "colab": {
          "base_uri": "https://localhost:8080/",
          "height": 284
        },
        "id": "-E6WxHQj6NPS",
        "outputId": "42b4fe04-5370-48d9-ef46-25f10b15c75e"
      },
      "source": [
        "plt.plot(history.history[\"loss\"])"
      ],
      "execution_count": 21,
      "outputs": [
        {
          "output_type": "execute_result",
          "data": {
            "text/plain": [
              "[<matplotlib.lines.Line2D at 0x7fc63f211f50>]"
            ]
          },
          "metadata": {
            "tags": []
          },
          "execution_count": 21
        },
        {
          "output_type": "display_data",
          "data": {
            "image/png": "[encoded data removed]",
            "text/plain": [
              "<Figure size 432x288 with 1 Axes>"
            ]
          },
          "metadata": {
            "tags": [],
            "needs_background": "light"
          }
        }
      ]
    },
    {
      "cell_type": "code",
      "metadata": {
        "id": "AoejzK3362gt"
      },
      "source": [
        "#Generating Data For Testing\n",
        "xtest=np.array([[80,85],[90,95],[100,105]])\n",
        "xtest=xtest.reshape((1,3,2))"
      ],
      "execution_count": 23,
      "outputs": []
    },
    {
      "cell_type": "code",
      "metadata": {
        "colab": {
          "base_uri": "https://localhost:8080/"
        },
        "id": "I-h5NxxP78Mu",
        "outputId": "f460c005-e4a4-462f-b331-c40be6aec03c"
      },
      "source": [
        "ypred=model.predict(xtest)\n",
        "ypred"
      ],
      "execution_count": 25,
      "outputs": [
        {
          "output_type": "execute_result",
          "data": {
            "text/plain": [
              "array([[205.99873]], dtype=float32)"
            ]
          },
          "metadata": {
            "tags": []
          },
          "execution_count": 25
        }
      ]
    },
    {
      "cell_type": "markdown",
      "metadata": {
        "id": "y6tYiyggH-EO"
      },
      "source": [
        "**GRU (Gated Recurrent Unit )**"
      ]
    },
    {
      "cell_type": "code",
      "metadata": {
        "id": "EON97AkOIf--"
      },
      "source": [
        "from keras.layers import Dense,GRU\n",
        "from keras.models import Sequential\n",
        "model=Sequential()\n",
        "model.add(GRU(50,activation='relu',input_shape=(n_steps,x.shape[2])))\n",
        "model.add(Dense(1))\n",
        "model.compile(optimizer='adam',loss='mse')"
      ],
      "execution_count": 26,
      "outputs": []
    },
    {
      "cell_type": "code",
      "metadata": {
        "colab": {
          "base_uri": "https://localhost:8080/"
        },
        "id": "H_FvXcQKJkWk",
        "outputId": "a12a0778-abc4-4a08-c0ed-beca79c4618c"
      },
      "source": [
        "history=model.fit(x,y,epochs=100)"
      ],
      "execution_count": 27,
      "outputs": [
        {
          "output_type": "stream",
          "text": [
            "Epoch 1/100\n",
            "1/1 [==============================] - 3s 3s/step - loss: 17560.4082\n",
            "Epoch 2/100\n",
            "1/1 [==============================] - 0s 12ms/step - loss: 17433.7090\n",
            "Epoch 3/100\n",
            "1/1 [==============================] - 0s 9ms/step - loss: 17302.2988\n",
            "Epoch 4/100\n",
            "1/1 [==============================] - 0s 12ms/step - loss: 17165.6484\n",
            "Epoch 5/100\n",
            "1/1 [==============================] - 0s 9ms/step - loss: 17023.6211\n",
            "Epoch 6/100\n",
            "1/1 [==============================] - 0s 8ms/step - loss: 16876.5703\n",
            "Epoch 7/100\n",
            "1/1 [==============================] - 0s 10ms/step - loss: 16725.2773\n",
            "Epoch 8/100\n",
            "1/1 [==============================] - 0s 17ms/step - loss: 16570.5840\n",
            "Epoch 9/100\n",
            "1/1 [==============================] - 0s 10ms/step - loss: 16413.4746\n",
            "Epoch 10/100\n",
            "1/1 [==============================] - 0s 7ms/step - loss: 16255.3652\n",
            "Epoch 11/100\n",
            "1/1 [==============================] - 0s 8ms/step - loss: 16094.7646\n",
            "Epoch 12/100\n",
            "1/1 [==============================] - 0s 8ms/step - loss: 15931.0400\n",
            "Epoch 13/100\n",
            "1/1 [==============================] - 0s 10ms/step - loss: 15762.5928\n",
            "Epoch 14/100\n",
            "1/1 [==============================] - 0s 8ms/step - loss: 15589.9395\n",
            "Epoch 15/100\n",
            "1/1 [==============================] - 0s 9ms/step - loss: 15413.5146\n",
            "Epoch 16/100\n",
            "1/1 [==============================] - 0s 6ms/step - loss: 15233.8994\n",
            "Epoch 17/100\n",
            "1/1 [==============================] - 0s 11ms/step - loss: 15047.7041\n",
            "Epoch 18/100\n",
            "1/1 [==============================] - 0s 11ms/step - loss: 14853.9014\n",
            "Epoch 19/100\n",
            "1/1 [==============================] - 0s 8ms/step - loss: 14651.3750\n",
            "Epoch 20/100\n",
            "1/1 [==============================] - 0s 10ms/step - loss: 14439.6631\n",
            "Epoch 21/100\n",
            "1/1 [==============================] - 0s 8ms/step - loss: 14221.4375\n",
            "Epoch 22/100\n",
            "1/1 [==============================] - 0s 14ms/step - loss: 13993.5518\n",
            "Epoch 23/100\n",
            "1/1 [==============================] - 0s 10ms/step - loss: 13748.1709\n",
            "Epoch 24/100\n",
            "1/1 [==============================] - 0s 13ms/step - loss: 13478.5576\n",
            "Epoch 25/100\n",
            "1/1 [==============================] - 0s 7ms/step - loss: 13177.7090\n",
            "Epoch 26/100\n",
            "1/1 [==============================] - 0s 7ms/step - loss: 12843.8906\n",
            "Epoch 27/100\n",
            "1/1 [==============================] - 0s 7ms/step - loss: 12485.3809\n",
            "Epoch 28/100\n",
            "1/1 [==============================] - 0s 11ms/step - loss: 12117.2217\n",
            "Epoch 29/100\n",
            "1/1 [==============================] - 0s 17ms/step - loss: 11750.2236\n",
            "Epoch 30/100\n",
            "1/1 [==============================] - 0s 12ms/step - loss: 11385.4980\n",
            "Epoch 31/100\n",
            "1/1 [==============================] - 0s 8ms/step - loss: 11019.3594\n",
            "Epoch 32/100\n",
            "1/1 [==============================] - 0s 10ms/step - loss: 10653.5889\n",
            "Epoch 33/100\n",
            "1/1 [==============================] - 0s 11ms/step - loss: 10298.5303\n",
            "Epoch 34/100\n",
            "1/1 [==============================] - 0s 7ms/step - loss: 9963.4111\n",
            "Epoch 35/100\n",
            "1/1 [==============================] - 0s 8ms/step - loss: 9641.6182\n",
            "Epoch 36/100\n",
            "1/1 [==============================] - 0s 10ms/step - loss: 9310.5537\n",
            "Epoch 37/100\n",
            "1/1 [==============================] - 0s 8ms/step - loss: 8943.4785\n",
            "Epoch 38/100\n",
            "1/1 [==============================] - 0s 9ms/step - loss: 8507.1826\n",
            "Epoch 39/100\n",
            "1/1 [==============================] - 0s 9ms/step - loss: 7974.8472\n",
            "Epoch 40/100\n",
            "1/1 [==============================] - 0s 8ms/step - loss: 7356.9556\n",
            "Epoch 41/100\n",
            "1/1 [==============================] - 0s 9ms/step - loss: 6702.8867\n",
            "Epoch 42/100\n",
            "1/1 [==============================] - 0s 12ms/step - loss: 6041.7100\n",
            "Epoch 43/100\n",
            "1/1 [==============================] - 0s 7ms/step - loss: 5358.1787\n",
            "Epoch 44/100\n",
            "1/1 [==============================] - 0s 10ms/step - loss: 4644.3774\n",
            "Epoch 45/100\n",
            "1/1 [==============================] - 0s 8ms/step - loss: 3931.8918\n",
            "Epoch 46/100\n",
            "1/1 [==============================] - 0s 8ms/step - loss: 3244.9783\n",
            "Epoch 47/100\n",
            "1/1 [==============================] - 0s 8ms/step - loss: 2621.2473\n",
            "Epoch 48/100\n",
            "1/1 [==============================] - 0s 8ms/step - loss: 2130.6492\n",
            "Epoch 49/100\n",
            "1/1 [==============================] - 0s 8ms/step - loss: 1742.9014\n",
            "Epoch 50/100\n",
            "1/1 [==============================] - 0s 8ms/step - loss: 1414.2401\n",
            "Epoch 51/100\n",
            "1/1 [==============================] - 0s 15ms/step - loss: 1126.4003\n",
            "Epoch 52/100\n",
            "1/1 [==============================] - 0s 9ms/step - loss: 867.1861\n",
            "Epoch 53/100\n",
            "1/1 [==============================] - 0s 8ms/step - loss: 626.1330\n",
            "Epoch 54/100\n",
            "1/1 [==============================] - 0s 15ms/step - loss: 405.4367\n",
            "Epoch 55/100\n",
            "1/1 [==============================] - 0s 9ms/step - loss: 231.1923\n",
            "Epoch 56/100\n",
            "1/1 [==============================] - 0s 10ms/step - loss: 123.9994\n",
            "Epoch 57/100\n",
            "1/1 [==============================] - 0s 12ms/step - loss: 78.7829\n",
            "Epoch 58/100\n",
            "1/1 [==============================] - 0s 14ms/step - loss: 85.4083\n",
            "Epoch 59/100\n",
            "1/1 [==============================] - 0s 7ms/step - loss: 111.4569\n",
            "Epoch 60/100\n",
            "1/1 [==============================] - 0s 7ms/step - loss: 138.8456\n",
            "Epoch 61/100\n",
            "1/1 [==============================] - 0s 17ms/step - loss: 163.7743\n",
            "Epoch 62/100\n",
            "1/1 [==============================] - 0s 12ms/step - loss: 186.8979\n",
            "Epoch 63/100\n",
            "1/1 [==============================] - 0s 7ms/step - loss: 207.4079\n",
            "Epoch 64/100\n",
            "1/1 [==============================] - 0s 9ms/step - loss: 222.7769\n",
            "Epoch 65/100\n",
            "1/1 [==============================] - 0s 8ms/step - loss: 230.9194\n",
            "Epoch 66/100\n",
            "1/1 [==============================] - 0s 8ms/step - loss: 231.1049\n",
            "Epoch 67/100\n",
            "1/1 [==============================] - 0s 8ms/step - loss: 223.7950\n",
            "Epoch 68/100\n",
            "1/1 [==============================] - 0s 8ms/step - loss: 210.2364\n",
            "Epoch 69/100\n",
            "1/1 [==============================] - 0s 9ms/step - loss: 192.0851\n",
            "Epoch 70/100\n",
            "1/1 [==============================] - 0s 9ms/step - loss: 171.1021\n",
            "Epoch 71/100\n",
            "1/1 [==============================] - 0s 8ms/step - loss: 148.9392\n",
            "Epoch 72/100\n",
            "1/1 [==============================] - 0s 9ms/step - loss: 127.0248\n",
            "Epoch 73/100\n",
            "1/1 [==============================] - 0s 7ms/step - loss: 106.5099\n",
            "Epoch 74/100\n",
            "1/1 [==============================] - 0s 13ms/step - loss: 88.2477\n",
            "Epoch 75/100\n",
            "1/1 [==============================] - 0s 9ms/step - loss: 72.7930\n",
            "Epoch 76/100\n",
            "1/1 [==============================] - 0s 9ms/step - loss: 60.4177\n",
            "Epoch 77/100\n",
            "1/1 [==============================] - 0s 8ms/step - loss: 51.1470\n",
            "Epoch 78/100\n",
            "1/1 [==============================] - 0s 10ms/step - loss: 44.8036\n",
            "Epoch 79/100\n",
            "1/1 [==============================] - 0s 11ms/step - loss: 41.0587\n",
            "Epoch 80/100\n",
            "1/1 [==============================] - 0s 12ms/step - loss: 39.4839\n",
            "Epoch 81/100\n",
            "1/1 [==============================] - 0s 9ms/step - loss: 39.6002\n",
            "Epoch 82/100\n",
            "1/1 [==============================] - 0s 9ms/step - loss: 40.9192\n",
            "Epoch 83/100\n",
            "1/1 [==============================] - 0s 8ms/step - loss: 42.9788\n",
            "Epoch 84/100\n",
            "1/1 [==============================] - 0s 9ms/step - loss: 45.3671\n",
            "Epoch 85/100\n",
            "1/1 [==============================] - 0s 8ms/step - loss: 47.7409\n",
            "Epoch 86/100\n",
            "1/1 [==============================] - 0s 9ms/step - loss: 49.8422\n",
            "Epoch 87/100\n",
            "1/1 [==============================] - 0s 10ms/step - loss: 51.4747\n",
            "Epoch 88/100\n",
            "1/1 [==============================] - 0s 8ms/step - loss: 52.5230\n",
            "Epoch 89/100\n",
            "1/1 [==============================] - 0s 8ms/step - loss: 52.9415\n",
            "Epoch 90/100\n",
            "1/1 [==============================] - 0s 11ms/step - loss: 52.7418\n",
            "Epoch 91/100\n",
            "1/1 [==============================] - 0s 9ms/step - loss: 51.9810\n",
            "Epoch 92/100\n",
            "1/1 [==============================] - 0s 9ms/step - loss: 50.7487\n",
            "Epoch 93/100\n",
            "1/1 [==============================] - 0s 10ms/step - loss: 49.1554\n",
            "Epoch 94/100\n",
            "1/1 [==============================] - 0s 8ms/step - loss: 47.3200\n",
            "Epoch 95/100\n",
            "1/1 [==============================] - 0s 9ms/step - loss: 45.3603\n",
            "Epoch 96/100\n",
            "1/1 [==============================] - 0s 13ms/step - loss: 43.3835\n",
            "Epoch 97/100\n",
            "1/1 [==============================] - 0s 9ms/step - loss: 41.4793\n",
            "Epoch 98/100\n",
            "1/1 [==============================] - 0s 12ms/step - loss: 39.7142\n",
            "Epoch 99/100\n",
            "1/1 [==============================] - 0s 10ms/step - loss: 38.1274\n",
            "Epoch 100/100\n",
            "1/1 [==============================] - 0s 15ms/step - loss: 36.7317\n"
          ],
          "name": "stdout"
        }
      ]
    },
    {
      "cell_type": "code",
      "metadata": {
        "colab": {
          "base_uri": "https://localhost:8080/",
          "height": 284
        },
        "id": "RNMLv-EEJmDD",
        "outputId": "c2ff3021-b022-41d1-b8a7-d0e51c0cf50e"
      },
      "source": [
        "plt.plot(history.history[\"loss\"])"
      ],
      "execution_count": 28,
      "outputs": [
        {
          "output_type": "execute_result",
          "data": {
            "text/plain": [
              "[<matplotlib.lines.Line2D at 0x7fc63e2c6890>]"
            ]
          },
          "metadata": {
            "tags": []
          },
          "execution_count": 28
        },
        {
          "output_type": "display_data",
          "data": {
            "image/png": "[encoded data removed]",
            "text/plain": [
              "<Figure size 432x288 with 1 Axes>"
            ]
          },
          "metadata": {
            "tags": [],
            "needs_background": "light"
          }
        }
      ]
    },
    {
      "cell_type": "code",
      "metadata": {
        "id": "ekYo6pk5JyhS"
      },
      "source": [
        "#Generating Data For Testing\n",
        "xtest=np.array([[80,85],[90,95],[100,105]])\n",
        "xtest=xtest.reshape((1,3,2))"
      ],
      "execution_count": 29,
      "outputs": []
    },
    {
      "cell_type": "code",
      "metadata": {
        "colab": {
          "base_uri": "https://localhost:8080/"
        },
        "id": "XUbs6P39J4WY",
        "outputId": "ba526d11-c88d-47c0-da10-848033aa53d8"
      },
      "source": [
        "ypred=model.predict(xtest)\n",
        "ypred"
      ],
      "execution_count": 30,
      "outputs": [
        {
          "output_type": "execute_result",
          "data": {
            "text/plain": [
              "array([[211.63928]], dtype=float32)"
            ]
          },
          "metadata": {
            "tags": []
          },
          "execution_count": 30
        }
      ]
    }
  ]
}